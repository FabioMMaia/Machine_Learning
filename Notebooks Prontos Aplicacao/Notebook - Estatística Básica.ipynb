{
 "cells": [
  {
   "cell_type": "code",
   "execution_count": 1,
   "metadata": {},
   "outputs": [],
   "source": [
    "import random\n",
    "from scipy import stats \n",
    "from scipy.stats import bernoulli, binom, geom, poisson, norm, t\n",
    "import matplotlib.pyplot as plt\n",
    "import pandas as pd\n",
    "import numpy as np"
   ]
  },
  {
   "cell_type": "markdown",
   "metadata": {},
   "source": [
    "**Percentile point function (PPF)**\n",
    "\n",
    "- the inverse of the CDF (in continuos variable/ for discrete is the inverse of PMF). Answers the question “Given a certain probability, what is the corresponding value for the CDF?”\n",
    "\n",
    "- it's equivalent to quantil\n",
    "\n",
    "Example: Given that I am looking for a man who is smaller than 95% of all other men, what size does the man have to be?\n",
    "\n",
    "**Probability mass function (PMF)**\n",
    "\n",
    "- it's used for discrete random variable\n",
    "\n",
    "- a probability mass function is a function that gives the probability that a discrete random variable is exactly equal to some value\n",
    "\n",
    "\n",
    "**Probability density function (PDF)**\n",
    "\n",
    "- it's used for continuos random variable\n",
    "\n",
    "- describes the relative likelihood for a random variable X to take on a given value x\n",
    "\n",
    "- note that to obtain the probability for the variable appearing in a certain interval, you have to integrate the PDF over that range.\n",
    "\n",
    "Example: What is the chance that a man is between 160 and 165 cm tall?\n",
    "\n",
    "**Cumulative distribution function (CDF)** \n",
    "\n",
    "- the probability to find a value between a and b is given by the integral over the PDF in that range (or sum the pmfs)\n",
    "\n",
    "- gives the probability of obtaining a value smaller than the given value\n",
    "\n",
    "Example: What is the chance that a man is less than 165 cm tall?\n"
   ]
  },
  {
   "cell_type": "markdown",
   "metadata": {},
   "source": [
    "# Variáveis Aleatórias Discretas"
   ]
  },
  {
   "cell_type": "markdown",
   "metadata": {},
   "source": [
    "# Bernoulli"
   ]
  },
  {
   "cell_type": "code",
   "execution_count": 31,
   "metadata": {},
   "outputs": [
    {
     "name": "stdout",
     "output_type": "stream",
     "text": [
      "mean : 0.5\n",
      "var : 0.25\n",
      "skew : 0.0\n",
      "kurt : -2.0\n"
     ]
    },
    {
     "data": {
      "image/png": "[encoded data removed]",
      "text/plain": [
       "<Figure size 432x288 with 1 Axes>"
      ]
     },
     "metadata": {
      "needs_background": "light"
     },
     "output_type": "display_data"
    }
   ],
   "source": [
    "# - Admite apenas dois resultados (sucesso/fracasso)\n",
    "# - Critério definido: lança a moeda, peça defeituosa ou não\n",
    "\n",
    "# Exemplo: eu lanço uma moeda\n",
    "\n",
    "p=.5\n",
    "mean, var, skew, kurt = bernoulli.stats(p, moments='mvsk')\n",
    "\n",
    "for name,element in zip(['mean', 'var', 'skew', 'kurt'],[mean, var, skew, kurt]):\n",
    "    print(name,':',element)\n",
    "    \n",
    "fig, ax = plt.subplots(1, 1)\n",
    "\n",
    "x = np.arange(bernoulli.ppf(0.01,p),bernoulli.ppf(0.99,p))\n",
    "ax.plot(x, bernoulli.pmf(x, p), 'bo', ms=8, label='bernoulli pmf')\n",
    "ax.vlines(x, 0, bernoulli.pmf(x, p), colors='b', lw=5, alpha=0.5)\n",
    "plt.title('PMF - Bernoulli')\n",
    "plt.show()"
   ]
  },
  {
   "cell_type": "markdown",
   "metadata": {},
   "source": [
    "# Binomial"
   ]
  },
  {
   "cell_type": "code",
   "execution_count": 54,
   "metadata": {},
   "outputs": [
    {
     "name": "stdout",
     "output_type": "stream",
     "text": [
      "PMF: [0.00447288 0.00711073 0.01084387 0.01586907 0.02229227 0.03006864\n",
      " 0.03895256 0.0484743  0.0579584  0.0665905  0.07352701 0.07802866\n",
      " 0.07958924 0.07802866 0.07352701 0.0665905  0.0579584  0.0484743\n",
      " 0.03895256 0.03006864 0.02229227 0.01586907 0.01084387 0.00711073]\n",
      "CDF: [0.00447288 0.01158361 0.02242748 0.03829655 0.06058882 0.09065746\n",
      " 0.12961002 0.17808432 0.23604272 0.30263322 0.37616023 0.45418889\n",
      " 0.53377813 0.61180679 0.68533381 0.75192431 0.8098827  0.858357\n",
      " 0.89730956 0.9273782  0.94967047 0.96553955 0.97638341 0.98349414]\n"
     ]
    }
   ],
   "source": [
    "# - Sequencia de ensaios de Bernoulli (fracasso/sucesso)\n",
    "# - Exemplo: contar quantas vezes x veio cara em n lançamentos de moedas, não viciada (p=0.5) - mesma probabilidade de sucesso\n",
    "\n",
    "n,p=100, .5\n",
    "\n",
    "x = np.arange(binom.ppf(0.01, n, p),binom.ppf(0.99, n, p))\n",
    "print('PMF:',binom.pmf(x,n, p))\n",
    "print('CDF:',np.cumsum(pmf))"
   ]
  },
  {
   "cell_type": "code",
   "execution_count": 55,
   "metadata": {},
   "outputs": [
    {
     "name": "stdout",
     "output_type": "stream",
     "text": [
      "mean : 50.0\n",
      "var : 25.0\n",
      "skew : 0.0\n",
      "kurt : -0.02\n"
     ]
    },
    {
     "data": {
      "image/png": "[encoded data removed]",
      "text/plain": [
       "<Figure size 432x288 with 1 Axes>"
      ]
     },
     "metadata": {
      "needs_background": "light"
     },
     "output_type": "display_data"
    },
    {
     "data": {
      "image/png": "[encoded data removed]",
      "text/plain": [
       "<Figure size 432x288 with 1 Axes>"
      ]
     },
     "metadata": {
      "needs_background": "light"
     },
     "output_type": "display_data"
    },
    {
     "data": {
      "text/plain": [
       "<bound method Series.to_frame of 0    52\n",
       "1    48\n",
       "Name: c\\k, dtype: int64>"
      ]
     },
     "execution_count": 55,
     "metadata": {},
     "output_type": "execute_result"
    }
   ],
   "source": [
    "# Exemplo soma do número de moedas que deram cara (repetições de bernoullis)\n",
    "\n",
    "n,p=100, .5\n",
    "mean, var, skew, kurt = binom.stats(n,p, moments='mvsk')\n",
    "\n",
    "for name,element in zip(['mean', 'var', 'skew', 'kurt'],[mean, var, skew, kurt]):\n",
    "    print(name,':',element)\n",
    "    \n",
    "fig, ax = plt.subplots(1, 1)\n",
    "\n",
    "# ppf(q, n, p, loc=0) - Percent point function (inverse of cdf — percentiles). - inverte a cdf - pega limites direitos e esquerdo\n",
    "x = np.arange(binom.ppf(0.01, n, p),binom.ppf(0.99, n, p))\n",
    "\n",
    "# Probability mass function.\n",
    "\n",
    "ax.plot(x, binom.pmf(x,n, p), 'bo', ms=8, label='binom pmf')\n",
    "ax.vlines(x, 0, binom.pmf(x,n, p), colors='b', lw=5, alpha=0.5)\n",
    "plt.title('PMF - Binomial')\n",
    "plt.show()\n",
    "\n",
    "# CDF - distribuição cumulativa\n",
    "\n",
    "fig, ax = plt.subplots(1, 1)\n",
    "ax.plot(x, binom.cdf(x,n, p, loc=0), 'bo', ms=8, label='binom pmf')\n",
    "ax.vlines(x, 0,binom.cdf(x,n, p,loc=0), colors='b', lw=5, alpha=0.5)\n",
    "plt.title('CDF - Binomial')\n",
    "plt.show()"
   ]
  },
  {
   "cell_type": "code",
   "execution_count": 61,
   "metadata": {},
   "outputs": [
    {
     "data": {
      "text/html": [
       "<div>\n",
       "<style scoped>\n",
       "    .dataframe tbody tr th:only-of-type {\n",
       "        vertical-align: middle;\n",
       "    }\n",
       "\n",
       "    .dataframe tbody tr th {\n",
       "        vertical-align: top;\n",
       "    }\n",
       "\n",
       "    .dataframe thead th {\n",
       "        text-align: right;\n",
       "    }\n",
       "</style>\n",
       "<table border=\"1\" class=\"dataframe\">\n",
       "  <thead>\n",
       "    <tr style=\"text-align: right;\">\n",
       "      <th></th>\n",
       "      <th>c\\k</th>\n",
       "    </tr>\n",
       "  </thead>\n",
       "  <tbody>\n",
       "    <tr>\n",
       "      <th>1</th>\n",
       "      <td>52</td>\n",
       "    </tr>\n",
       "    <tr>\n",
       "      <th>0</th>\n",
       "      <td>48</td>\n",
       "    </tr>\n",
       "  </tbody>\n",
       "</table>\n",
       "</div>"
      ],
      "text/plain": [
       "   c\\k\n",
       "1   52\n",
       "0   48"
      ]
     },
     "execution_count": 61,
     "metadata": {},
     "output_type": "execute_result"
    }
   ],
   "source": [
    "# # example\n",
    "coins =  [random.randint(0,1) for i in range(0,100)]\n",
    "pd.Series(coins, name='c\\k').value_counts().to_frame()"
   ]
  },
  {
   "cell_type": "markdown",
   "metadata": {},
   "source": [
    "# Geometrica"
   ]
  },
  {
   "cell_type": "code",
   "execution_count": 29,
   "metadata": {},
   "outputs": [
    {
     "name": "stdout",
     "output_type": "stream",
     "text": [
      "mean : 5.88235294117647\n",
      "var : 28.719723183391\n",
      "skew : 2.008685957811333\n",
      "kurt : 6.034819277108434\n"
     ]
    },
    {
     "data": {
      "image/png": "[encoded data removed]",
      "text/plain": [
       "<Figure size 432x288 with 1 Axes>"
      ]
     },
     "metadata": {
      "needs_background": "light"
     },
     "output_type": "display_data"
    },
    {
     "data": {
      "image/png": "[encoded data removed]",
      "text/plain": [
       "<Figure size 432x288 with 1 Axes>"
      ]
     },
     "metadata": {
      "needs_background": "light"
     },
     "output_type": "display_data"
    }
   ],
   "source": [
    "# -X é o número de ensaios de Bernoulli (probabilidade de sucesso constante p) até que acontece o primeiro sucesso \n",
    "# - Dado um evento, qual a chance do primeiro sucesso\n",
    "\n",
    "p = 0.17\n",
    "mean, var, skew, kurt = geom.stats(p, moments='mvsk')\n",
    "\n",
    "for name,element in zip(['mean', 'var', 'skew', 'kurt'],[mean, var, skew, kurt]):\n",
    "    print(name,':',element)\n",
    "    \n",
    "# ppf(q, n, p, loc=0) - Percent point function (inverse of cdf — percentiles) == inverte a cdf - pega limites direitos e esquerdo\n",
    "\n",
    "x = np.arange(geom.ppf(0.01,p),geom.ppf(0.99, p))\n",
    "\n",
    "# Probability mass function.\n",
    "\n",
    "fig, ax = plt.subplots(1, 1)\n",
    "ax.plot(x, geom.pmf(x, p), 'bo', ms=8, label='binom pmf')\n",
    "ax.vlines(x, 0, geom.pmf(x, p), colors='b', lw=5, alpha=0.5)\n",
    "plt.show()\n",
    "\n",
    "# CDF - distribuição cumulativa\n",
    "\n",
    "fig, ax = plt.subplots(1, 1)\n",
    "ax.plot(x, geom.cdf(x, p, loc=0), 'bo', ms=8, label='binom pmf')\n",
    "ax.vlines(x, 0,geom.cdf(x, p, loc=0), colors='b', lw=5, alpha=0.5)\n",
    "plt.show()"
   ]
  },
  {
   "cell_type": "markdown",
   "metadata": {},
   "source": [
    "**Exercício**\n",
    "You throw darts at a board until you hit the center area. Your probability of hitting the center area is p = 0.17. You want to find the probability that it takes eight throws until you hit the center. What values does X take on?"
   ]
  },
  {
   "cell_type": "code",
   "execution_count": 34,
   "metadata": {},
   "outputs": [
    {
     "name": "stdout",
     "output_type": "stream",
     "text": [
      "usando a distribuição: 0.04613128668236589\n",
      "ou pelo calculo:(0.17)*(1-0.17)**7= 0.04613128668236589\n"
     ]
    }
   ],
   "source": [
    "# Usando a pmf\n",
    "print('usando a distribuição:',geom.pmf(8, 0.17))\n",
    "\n",
    "# Ou usando análise combinatória\n",
    "print('ou pelo calculo:(0.17)*(1-0.17)**7=',(0.17)*(1-0.17)**7)"
   ]
  },
  {
   "cell_type": "markdown",
   "metadata": {},
   "source": [
    "# Poisson"
   ]
  },
  {
   "cell_type": "markdown",
   "metadata": {},
   "source": [
    "Many experimental situation occur in which we observe the counts of events within a set unit of time, area, volume, length etc. For example,\n",
    "- The number of cases of a disease in different towns;\n",
    "- The number of mutations in given regions of a chromosome;\n",
    "- The number of dolphin pod sightings along a flight path through a region;\n",
    "- The number of particles emitted by a radioactive source in a given time;\n",
    "- The number of births per hour during a given day.\n",
    "- In such situations we are often interested in whether the events occur randomly in time or space, or not.\n"
   ]
  },
  {
   "cell_type": "code",
   "execution_count": 229,
   "metadata": {},
   "outputs": [
    {
     "data": {
      "image/png": "[encoded data removed]",
      "text/plain": [
       "<Figure size 432x288 with 1 Axes>"
      ]
     },
     "metadata": {
      "needs_background": "light"
     },
     "output_type": "display_data"
    },
    {
     "data": {
      "image/png": "[encoded data removed]",
      "text/plain": [
       "<Figure size 432x288 with 1 Axes>"
      ]
     },
     "metadata": {
      "needs_background": "light"
     },
     "output_type": "display_data"
    }
   ],
   "source": [
    "poisson_f = lambda x, mu : (np.exp(-mu)*mu**x)/math.factorial(x)\n",
    "\n",
    "x= np.arange(0,20)\n",
    "plt.plot(x, [poisson_f(x,3) for x in x])\n",
    "plt.show()\n",
    "plt.plot(x, np.cumsum([poisson_f(x,3) for x in x]), color='orange')\n",
    "plt.show()\n"
   ]
  },
  {
   "cell_type": "code",
   "execution_count": 36,
   "metadata": {},
   "outputs": [
    {
     "name": "stdout",
     "output_type": "stream",
     "text": [
      "mean : 0.6\n",
      "var : 0.6\n",
      "skew : 1.2909944487358056\n",
      "kurt : 1.6666666666666667\n"
     ]
    },
    {
     "data": {
      "image/png": "[encoded data removed]",
      "text/plain": [
       "<Figure size 432x288 with 1 Axes>"
      ]
     },
     "metadata": {
      "needs_background": "light"
     },
     "output_type": "display_data"
    },
    {
     "data": {
      "image/png": "[encoded data removed]",
      "text/plain": [
       "<Figure size 432x288 with 1 Axes>"
      ]
     },
     "metadata": {
      "needs_background": "light"
     },
     "output_type": "display_data"
    }
   ],
   "source": [
    "# Contagem de eventos a cada unidade de tempo, volume, area, comprimento\n",
    "\n",
    "mu = 0.6\n",
    "mean, var, skew, kurt = poisson.stats(mu, moments='mvsk')\n",
    "\n",
    "for name,element in zip(['mean', 'var', 'skew', 'kurt'],[mean, var, skew, kurt]):\n",
    "    print(name,':',element)\n",
    "    \n",
    "# ppf(q, n, p, loc=0) - Percent point function (inverse of cdf — percentiles) - inverte a cdf - pega limites direitos e esquerdo\n",
    "\n",
    "x = np.arange(poisson.ppf(0.01,mu),poisson.ppf(0.99, mu))\n",
    "\n",
    "# Probability mass function.\n",
    "\n",
    "fig, ax = plt.subplots(1, 1)\n",
    "ax.plot(x, poisson.pmf(x, mu), 'bo', ms=8, label='binom pmf')\n",
    "ax.vlines(x, 0, poisson.pmf(x, mu), colors='b', lw=5, alpha=0.5)\n",
    "plt.show()\n",
    "\n",
    "# CDF - distribuição cumulativa\n",
    "\n",
    "fig, ax = plt.subplots(1, 1)\n",
    "ax.plot(x, poisson.cdf(x, mu, loc=0), 'bo', ms=8, label='binom pmf')\n",
    "ax.vlines(x, 0,poisson.cdf(x, mu, loc=0), colors='b', lw=5, alpha=0.5)\n",
    "plt.show()"
   ]
  },
  {
   "cell_type": "markdown",
   "metadata": {},
   "source": [
    "**Exercício**\n",
    "Suppose there is a disease, whose average incidence is 2 per million people. What is the probability that a city of 1 million people has at least twice the average incidence?"
   ]
  },
  {
   "cell_type": "code",
   "execution_count": 62,
   "metadata": {},
   "outputs": [
    {
     "name": "stdout",
     "output_type": "stream",
     "text": [
      "resposta: 0.14287653950145296\n",
      "alternativamente: 0.14287653950145296\n"
     ]
    }
   ],
   "source": [
    "mu = 2\n",
    "\n",
    "print('resposta:',sum([poisson.pmf(n , mu) for n in range(4,1000)]))\n",
    "\n",
    "print('alternativamente:',1- poisson.cdf(3,2))"
   ]
  },
  {
   "cell_type": "code",
   "execution_count": 63,
   "metadata": {},
   "outputs": [
    {
     "name": "stdout",
     "output_type": "stream",
     "text": [
      "most probables values:\n",
      "[0. 1. 2. 3. 4. 5. 6. 7.]\n",
      "[38. 39. 40. 41. 42. 43. 44. 45. 46. 47. 48. 49. 50. 51. 52. 53. 54. 55.\n",
      " 56. 57. 58. 59. 60. 61.]\n"
     ]
    },
    {
     "data": {
      "image/png": "[encoded data removed]",
      "text/plain": [
       "<Figure size 432x288 with 1 Axes>"
      ]
     },
     "metadata": {
      "needs_background": "light"
     },
     "output_type": "display_data"
    }
   ],
   "source": [
    "# Probability mass function.\n",
    "\n",
    "mu=3\n",
    "print('most probables values:')\n",
    "print(np.arange(poisson.ppf(0.01,mu),poisson.ppf(0.99, mu)))\n",
    "\n",
    "print(x)\n",
    "\n",
    "mu=3\n",
    "fig, ax = plt.subplots(1, 1)\n",
    "# x = np.arange(0,20)\n",
    "x = np.arange(poisson.ppf(0.01,mu),poisson.ppf(0.99, mu) + 5)\n",
    "ax.plot(x, poisson.pmf(x, mu), 'bo', ms=8, label='binom pmf')\n",
    "ax.vlines(x, 0, poisson.pmf(x, mu), colors='b', lw=5, alpha=0.5)\n",
    "plt.show()\n",
    "\n",
    "# mu=4\n",
    "# fig, ax = plt.subplots(1, 1)\n",
    "# x = np.arange(0,20)\n",
    "# ax.plot(x, poisson.pmf(x, mu), 'bo', ms=8, label='binom pmf')\n",
    "# ax.vlines(x, 0, poisson.pmf(x, mu), colors='b', lw=5, alpha=0.5)\n",
    "# plt.show()\n",
    "\n",
    "# mu=5\n",
    "# fig, ax = plt.subplots(1, 1)\n",
    "# x = np.arange(0,20)\n",
    "# ax.plot(x, poisson.pmf(x, mu), 'bo', ms=8, label='binom pmf')\n",
    "# ax.vlines(x, 0, poisson.pmf(x, mu), colors='b', lw=5, alpha=0.5)\n",
    "# plt.show()"
   ]
  },
  {
   "cell_type": "markdown",
   "metadata": {},
   "source": [
    "# Variáveis Aleatórias Contínuas"
   ]
  },
  {
   "attachments": {},
   "cell_type": "markdown",
   "metadata": {},
   "source": [
    "# Normal\n",
    "\n",
    "- A distribuição normal é a mais importante distribuição de variáveis aleatórias contínuas em razão da sua enorme aplicação nos mais variados campos do conhecimento.\n",
    "- Possui dois parâmetros característicos µ e σ² que correspondem respectivamente a média e a variância da distribuição. \n",
    "- A distribuição normal com média µ=0 e variância σ²=1 é conhecida como distribuição normal reduzida ou padronizada(utilizada como referência em testes estatítisticos)."
   ]
  },
  {
   "cell_type": "code",
   "execution_count": 64,
   "metadata": {},
   "outputs": [
    {
     "name": "stdout",
     "output_type": "stream",
     "text": [
      "mean : 0.0\n",
      "var : 1.0\n",
      "skew : 0.0\n",
      "kurt : 0.0\n"
     ]
    },
    {
     "data": {
      "image/png": "[encoded data removed]",
      "text/plain": [
       "<Figure size 432x288 with 1 Axes>"
      ]
     },
     "metadata": {
      "needs_background": "light"
     },
     "output_type": "display_data"
    },
    {
     "data": {
      "image/png": "[encoded data removed]",
      "text/plain": [
       "<Figure size 432x288 with 1 Axes>"
      ]
     },
     "metadata": {
      "needs_background": "light"
     },
     "output_type": "display_data"
    }
   ],
   "source": [
    "mean, var, skew, kurt = norm.stats(moments='mvsk')\n",
    "\n",
    "for name,element in zip(['mean', 'var', 'skew', 'kurt'],[mean, var, skew, kurt]):\n",
    "    print(name,':',element)\n",
    "    \n",
    "fig, ax = plt.subplots(1, 1)\n",
    "x = np.linspace(norm.ppf(0.01),norm.ppf(0.99),50)\n",
    "ax.plot(x, norm.pdf(x, loc=0), 'bo', ms=8, label='normal pmf')\n",
    "ax.vlines(x, 0,norm.pdf(x, loc=0), colors='b', lw=5, alpha=0.5)\n",
    "plt.title('PDF')\n",
    "plt.show()\n",
    "\n",
    "# CDF - distribuição cumulativa\n",
    "\n",
    "fig, ax = plt.subplots(1, 1)\n",
    "ax.plot(x, norm.cdf(x, loc=0), 'bo', ms=8, label='normal pmf')\n",
    "ax.vlines(x, 0,norm.cdf(x, loc=0), colors='b', lw=5, alpha=0.5)\n",
    "plt.title('CDF')\n",
    "plt.show()\n"
   ]
  },
  {
   "cell_type": "code",
   "execution_count": 66,
   "metadata": {},
   "outputs": [],
   "source": [
    "import pandas as pd\n",
    "from scipy import stats\n",
    "\n",
    "df = pd.DataFrame({'Height':[64,66,68,69,73], 'Score':[580,570,590,660,600], 'Age':[29,33,37,46,55]})"
   ]
  },
  {
   "cell_type": "code",
   "execution_count": 67,
   "metadata": {},
   "outputs": [
    {
     "data": {
      "text/html": [
       "<div>\n",
       "<style scoped>\n",
       "    .dataframe tbody tr th:only-of-type {\n",
       "        vertical-align: middle;\n",
       "    }\n",
       "\n",
       "    .dataframe tbody tr th {\n",
       "        vertical-align: top;\n",
       "    }\n",
       "\n",
       "    .dataframe thead th {\n",
       "        text-align: right;\n",
       "    }\n",
       "</style>\n",
       "<table border=\"1\" class=\"dataframe\">\n",
       "  <thead>\n",
       "    <tr style=\"text-align: right;\">\n",
       "      <th></th>\n",
       "      <th>Height</th>\n",
       "      <th>Score</th>\n",
       "      <th>Age</th>\n",
       "    </tr>\n",
       "  </thead>\n",
       "  <tbody>\n",
       "    <tr>\n",
       "      <th>count</th>\n",
       "      <td>5.000000</td>\n",
       "      <td>5.000000</td>\n",
       "      <td>5.000000</td>\n",
       "    </tr>\n",
       "    <tr>\n",
       "      <th>mean</th>\n",
       "      <td>68.000000</td>\n",
       "      <td>600.000000</td>\n",
       "      <td>40.000000</td>\n",
       "    </tr>\n",
       "    <tr>\n",
       "      <th>std</th>\n",
       "      <td>3.391165</td>\n",
       "      <td>35.355339</td>\n",
       "      <td>10.488088</td>\n",
       "    </tr>\n",
       "    <tr>\n",
       "      <th>min</th>\n",
       "      <td>64.000000</td>\n",
       "      <td>570.000000</td>\n",
       "      <td>29.000000</td>\n",
       "    </tr>\n",
       "    <tr>\n",
       "      <th>25%</th>\n",
       "      <td>66.000000</td>\n",
       "      <td>580.000000</td>\n",
       "      <td>33.000000</td>\n",
       "    </tr>\n",
       "    <tr>\n",
       "      <th>50%</th>\n",
       "      <td>68.000000</td>\n",
       "      <td>590.000000</td>\n",
       "      <td>37.000000</td>\n",
       "    </tr>\n",
       "    <tr>\n",
       "      <th>75%</th>\n",
       "      <td>69.000000</td>\n",
       "      <td>600.000000</td>\n",
       "      <td>46.000000</td>\n",
       "    </tr>\n",
       "    <tr>\n",
       "      <th>max</th>\n",
       "      <td>73.000000</td>\n",
       "      <td>660.000000</td>\n",
       "      <td>55.000000</td>\n",
       "    </tr>\n",
       "  </tbody>\n",
       "</table>\n",
       "</div>"
      ],
      "text/plain": [
       "          Height       Score        Age\n",
       "count   5.000000    5.000000   5.000000\n",
       "mean   68.000000  600.000000  40.000000\n",
       "std     3.391165   35.355339  10.488088\n",
       "min    64.000000  570.000000  29.000000\n",
       "25%    66.000000  580.000000  33.000000\n",
       "50%    68.000000  590.000000  37.000000\n",
       "75%    69.000000  600.000000  46.000000\n",
       "max    73.000000  660.000000  55.000000"
      ]
     },
     "execution_count": 67,
     "metadata": {},
     "output_type": "execute_result"
    }
   ],
   "source": [
    "df.describe()"
   ]
  },
  {
   "cell_type": "code",
   "execution_count": 70,
   "metadata": {},
   "outputs": [
    {
     "data": {
      "text/plain": [
       "KstestResult(statistic=0.058352892479417884, pvalue=0.8653960860778898)"
      ]
     },
     "execution_count": 70,
     "metadata": {},
     "output_type": "execute_result"
    }
   ],
   "source": [
    "# TESTE KS\n",
    "\n",
    "# Verifico se tenho uma distribuição normal - ou distribuição de interesse\n",
    "np.random.seed(987654321) # set random seed to get the same result\n",
    "stats.kstest(stats.norm.rvs(size=100), stats.norm.cdf)"
   ]
  },
  {
   "cell_type": "code",
   "execution_count": 71,
   "metadata": {},
   "outputs": [
    {
     "data": {
      "image/png": "[encoded data removed]",
      "text/plain": [
       "<Figure size 432x288 with 1 Axes>"
      ]
     },
     "metadata": {
      "needs_background": "light"
     },
     "output_type": "display_data"
    }
   ],
   "source": [
    "# O que é a função norm.rvs?\n",
    "# É um função utilizada para gerar números aleatórios de acordo com uma Distribuição normal padrão\n",
    "plt.plot( np.arange(0,100), np.sort(stats.norm.rvs(size=100)));"
   ]
  },
  {
   "cell_type": "markdown",
   "metadata": {},
   "source": [
    "# Exercícios"
   ]
  },
  {
   "cell_type": "markdown",
   "metadata": {},
   "source": [
    "A expectativa de vida de lagartos em um determinado zoológico tem distribuição normal. A expectativa de vida média de um lagarto é de 3,1 anos e o desvio-padrão é 0,6 anos.\n",
    "\n",
    "Use a regra empírica (68-95-99,7%) para estimar a probabilidade de um lagarto viver menos do que 2.5 anos.\n",
    "\n",
    "Resposta: 16% = (100% - 68%)/2"
   ]
  },
  {
   "cell_type": "code",
   "execution_count": 89,
   "metadata": {},
   "outputs": [
    {
     "data": {
      "image/png": "[encoded data removed]",
      "text/plain": [
       "<Figure size 432x288 with 1 Axes>"
      ]
     },
     "metadata": {
      "needs_background": "light"
     },
     "output_type": "display_data"
    }
   ],
   "source": [
    "norm.cdf(2.5, loc=3.1,scale=0.6)\n",
    "fig, ax = plt.subplots(1, 1)\n",
    "\n",
    "x = np.linspace(norm.ppf(0.001,loc=3.1,scale=0.6),norm.ppf(0.999,loc=3.1,scale=0.6),50)\n",
    "ax.plot(x, norm.pdf(x, loc=3.1,scale=0.6), 'bo', ms=8, label='normal pmf')\n",
    "ax.vlines(x, 0,norm.pdf(x, loc=3.1,scale=0.6), colors='b', lw=5, alpha=0.5)\n",
    "plt.title('PDF')\n",
    "\n",
    "plt.axvline(2.5, lw=3, c='black' )\n",
    "\n",
    "plt.show()"
   ]
  },
  {
   "cell_type": "code",
   "execution_count": 90,
   "metadata": {},
   "outputs": [
    {
     "data": {
      "text/plain": [
       "0.15865525393145702"
      ]
     },
     "execution_count": 90,
     "metadata": {},
     "output_type": "execute_result"
    }
   ],
   "source": [
    "norm.cdf(2.5, loc=3.1,scale=0.6)"
   ]
  },
  {
   "cell_type": "markdown",
   "metadata": {},
   "source": [
    "# Intervalo de Confiança"
   ]
  },
  {
   "cell_type": "markdown",
   "metadata": {},
   "source": [
    "- É uma estimativa de intervalo estatístico em cima de um parâmetro estudado - dada uma amosta de valores\n",
    "Como interpretar?\n",
    " - Para um IC de 95%:\n",
    " - Existe uma probabilidade de 95% de que, no futuro, o verdadeiro valor do parâmetro da população (por exemplo, média) caia no intervalo X (limite inferior) e Y (limite superior)."
   ]
  },
  {
   "cell_type": "markdown",
   "metadata": {},
   "source": [
    "**Exercício**\n",
    "\n",
    "Um nutricionista deseja estimar o valor calórico dos burritos de um restaurante popular. Ele obtém uma amostra aleatória de 14 burritos e mede o valor calórico de cada. A amostra é aproximadamente simétrica, com uma média de 700 calorias e desvio-padrão de 50 calorias.\n",
    "\n",
    "Com base nessa amostra, qual dos valores a seguir é um intervalo de confiança de 95% para a média do valor calórico destes burritos?\n",
    "\n",
    "$ \\bar{x} \\pm z_{\\alpha/2}\\frac{\\sigma}{\\sqrt{n}} $\n",
    "\n",
    "Nós vamos usar um intervalo t — e não um intervalo z — porque não conhecemos o desvio-padrão da população e precisamos usar o desvio-padrão da amostra em seu lugar."
   ]
  },
  {
   "cell_type": "code",
   "execution_count": 91,
   "metadata": {},
   "outputs": [
    {
     "name": "stdout",
     "output_type": "stream",
     "text": [
      "(671.1308594942777, 728.8691405057223)\n",
      "IC : 700 +-28.87\n",
      "esquerda: 671.1308594942777\n",
      "direita: 728.8691405057223\n"
     ]
    }
   ],
   "source": [
    "# gl = amostras - 1\n",
    "\n",
    "print(stats.t.interval(alpha= 0.95, df=13, loc=700, scale=50/np.sqrt(14)))\n",
    "\n",
    "print('IC : {} +{:.2f}'.format(700, t.ppf(0.025, df=13, loc=0, scale=1) * 50 / np.sqrt(14)))\n",
    "\n",
    "print('esquerda:',t.ppf(0.025, df=13, loc=700, scale=50/ np.sqrt(14)))\n",
    "\n",
    "print('direita:',t.ppf(1-0.025, df=13, loc=700, scale=50/ np.sqrt(14)))"
   ]
  },
  {
   "cell_type": "markdown",
   "metadata": {},
   "source": [
    "Émerson construiu um intervalo z de uma única amostra para uma proporção e usou o valor crítico de z*=1,476 \n",
    "\n",
    "Qual foi o nível de confiança que ele usou?"
   ]
  },
  {
   "cell_type": "code",
   "execution_count": 95,
   "metadata": {},
   "outputs": [
    {
     "data": {
      "text/plain": [
       "0.8600561077685378"
      ]
     },
     "execution_count": 95,
     "metadata": {},
     "output_type": "execute_result"
    },
    {
     "data": {
      "image/png": "[encoded data removed]",
      "text/plain": [
       "<Figure size 432x288 with 1 Axes>"
      ]
     },
     "metadata": {
      "needs_background": "light"
     },
     "output_type": "display_data"
    }
   ],
   "source": [
    "plt.plot(np.linspace(norm.ppf(0.001,loc=0,scale=1),norm.ppf(0.999,loc=0,scale=1),50), \n",
    "        norm.pdf(x, loc=3.1,scale=0.6), \n",
    "        'bo', ms=8, label='normal pmf')\n",
    "\n",
    "plt.axvline(-1.476, lw=3, c='black' )\n",
    "plt.axvline(+1.476, lw=3, c='black' )\n",
    "\n",
    "\n",
    "1 - 2*(norm.cdf(-1.476, loc=0,scale=1))"
   ]
  },
  {
   "cell_type": "markdown",
   "metadata": {},
   "source": [
    "Uma médica colheu uma amostra aleatória de n=6 pacientes para verificar quanto tempo eles ficavam aguardando na sala de espera. Ela quer construir um intervalo ttt com 99% de confiança para o tempo médio de espera. Os tempos de espera na amostra eram aproximadamente simétricos, com média de 8,5 minutos e um desvio-padrão de 2.8\n",
    "\n",
    "Qual é o valor crítico t?"
   ]
  },
  {
   "cell_type": "code",
   "execution_count": 96,
   "metadata": {},
   "outputs": [
    {
     "name": "stdout",
     "output_type": "stream",
     "text": [
      "t_crit: -4.609123343841029\n"
     ]
    }
   ],
   "source": [
    "p = 0.99\n",
    "alpha = (1-p)/2\n",
    "n=6\n",
    "media=8.5\n",
    "s = 2.8\n",
    "\n",
    "print('t_crit:',t.ppf(q = alpha , df=n-1, loc=0, scale=s/ np.sqrt(n)))"
   ]
  },
  {
   "cell_type": "markdown",
   "metadata": {},
   "source": [
    "Vitória quer estimar o peso médio das maçãs em sua horta. Ela vai amostrar nnn maçãs e construir um intervalo de confiança de 95%  para a média dos pesos. Ela está disposta a usar sigma=15 gramas como uma estimativa do desvio-padrão, e quer que a margem de erro não seja superior a 5 gramas.\n",
    "\n",
    "Qual destas opções mostra o menor tamanho amostral aproximado necessário para obter a margem de erro desejada?"
   ]
  },
  {
   "cell_type": "code",
   "execution_count": 97,
   "metadata": {},
   "outputs": [
    {
     "name": "stdout",
     "output_type": "stream",
     "text": [
      "[(-13.147838108648722, 13.147838108648722), (-7.59090787128996, 7.59090787128996), (-5.879891953620162, 5.879891953620162), (-5.3675824311514715, 5.3675824311514715), (-4.969415701946049, 4.969415701946049)]\n"
     ]
    },
    {
     "data": {
      "text/plain": [
       "34.573129386247125"
      ]
     },
     "execution_count": 97,
     "metadata": {},
     "output_type": "execute_result"
    }
   ],
   "source": [
    "p=0.95\n",
    "alpha = (1-p)/2\n",
    "sigma=15\n",
    "error=5\n",
    "\n",
    "print([stats.norm.interval(alpha= p, loc=0, scale=15/np.sqrt(n)) for n in [5,15,25,30,35]])\n",
    "\n",
    "(norm.ppf(q = 1-alpha , loc=0, scale=1)*sigma/error)**2\n"
   ]
  },
  {
   "cell_type": "markdown",
   "metadata": {},
   "source": [
    "Um analista de mercado está curioso quanto à proporção de residentes do Rio de Janeiro que têm um telefone fixo. Uma pesquisa com 200 residentes do Rio de Janeiro selecionados ao acaso verificou que 96 deles têm um telefone fixo. O analista quer usar esses dados para construir um intervalo zzz de amostra única para uma proporção.\n",
    "\n",
    "Com base nessa amostra, qual das opções a seguir é um intervalo de confiança de 90% para a proporção de residentes do Rio de Janeiro que possuem telefone fixo?\n",
    "\n",
    "\n",
    "$ \\hat{p} \\pm z*{\\sqrt{\\frac{\\hat{p}(1-\\hat{p})}{n}}} $"
   ]
  },
  {
   "cell_type": "code",
   "execution_count": 98,
   "metadata": {},
   "outputs": [
    {
     "name": "stdout",
     "output_type": "stream",
     "text": [
      "-0.058107815573389766\n"
     ]
    }
   ],
   "source": [
    "print(norm.ppf(q = (1-0.9)/2 , loc=0, scale=1)*np.sqrt((96/200*(1-96/200))/200)) \n",
    "\n",
    "# stats.norm.interval(alpha= 0.9,  loc=0, scale=np.sqrt((96/200)*(1-0.96/200)/(200)))[1] - 96/200"
   ]
  },
  {
   "cell_type": "code",
   "execution_count": 99,
   "metadata": {},
   "outputs": [
    {
     "name": "stdout",
     "output_type": "stream",
     "text": [
      "z_crit: 1.959963984540054\n"
     ]
    },
    {
     "data": {
      "text/plain": [
       "[0.030734687593697154,\n",
       " 0.024248265730203677,\n",
       " 0.019992232418277873,\n",
       " 0.017600996170245877]"
      ]
     },
     "execution_count": 99,
     "metadata": {},
     "output_type": "execute_result"
    }
   ],
   "source": [
    "# problema de z_critico e problemas com proporção\n",
    "\n",
    "p=0.95\n",
    "z_c = norm.ppf(q = 1 - (1 -p)/2 , loc=0, scale=1)\n",
    "print('z_crit:',z_c)\n",
    "p_hat= 0.9\n",
    "\n",
    "\n",
    "[z_c*np.sqrt(p_hat*(1-p_hat)/n) for n in [366,588,865,1116]]\n"
   ]
  },
  {
   "cell_type": "markdown",
   "metadata": {},
   "source": [
    "Nádia quer estimar a média de autonomia do novo veículo elétrico de sua empresa. Ela amostrará veículos e medirá cada autonomia para construir um intervalo de confiança para a média da autonomia. Ela quer que a margem de erro seja de não mais de 10 quilômetros, com um nível de confiança de 90%. Um estudo piloto sugere que as autonomias desse tipo de veículo têm um desvio-padrão de 15 quilômetros.\n",
    "Quais dessas opções é o menor tamanho amostral aproximado necessário para obter a margem de erro desejada?"
   ]
  },
  {
   "cell_type": "code",
   "execution_count": 100,
   "metadata": {},
   "outputs": [
    {
     "name": "stdout",
     "output_type": "stream",
     "text": [
      "[(-11.03401356870172, 11.034013568701715), (-9.325443514320442, 9.325443514320439), (-7.802225818133364, 7.802225818133361), (-6.370490704131921, 6.370490704131918), (-4.504617176377546, 4.504617176377544)]\n",
      "maior que: 6.087472771714678\n"
     ]
    }
   ],
   "source": [
    "p=0.90\n",
    "alpha = (1-p)/2\n",
    "sigma=15\n",
    "error=10\n",
    "\n",
    "print([stats.norm.interval(alpha= p, loc=0, scale=15/np.sqrt(n)) for n in [5,7,10,15,30]])\n",
    "\n",
    "print('maior que:',(norm.ppf(q = 1-alpha , loc=0, scale=1)*sigma/error)**2)"
   ]
  },
  {
   "cell_type": "markdown",
   "metadata": {},
   "source": [
    "**A condição de normalidade**\n",
    "\n",
    "A condição de normalidade para esse tipo de intervalo de confiança diz que precisamos de pelo menos 10 sucessos e 10 fracassos em nossos dados amostrais. Isso pode ser escrito assim:\n",
    "\n",
    "$n\\hat{p} \\geq 10$ e  $ n(1 - \\hat{p}) \\geq 10$ \n",
    "\n",
    "\n",
    "**A condição de independência**\n",
    "\n",
    "A condição de independência diz que, quando amostramos sem reposição, ainda podemos tratar cada observação na amostra como independente desde de que amostremos menos de %10 da população."
   ]
  },
  {
   "cell_type": "markdown",
   "metadata": {},
   "source": [
    "\n",
    "# Para teste de hipótese\n",
    "\n",
    "A condição de aleatoriedade - AAS é uma amostra aleatória simples\n",
    "\n",
    "A condição de normalidad - n é maior ou igual a 30\n",
    "\n",
    "A condição de independência - A condição de independência diz que quando estivermos amostrando sem reposição, podemos tratar cada observação na amostra como se fosse independente, desde que a amostra seja inferior a 10%"
   ]
  },
  {
   "cell_type": "code",
   "execution_count": 101,
   "metadata": {},
   "outputs": [
    {
     "data": {
      "text/html": [
       "<div>\n",
       "<style scoped>\n",
       "    .dataframe tbody tr th:only-of-type {\n",
       "        vertical-align: middle;\n",
       "    }\n",
       "\n",
       "    .dataframe tbody tr th {\n",
       "        vertical-align: top;\n",
       "    }\n",
       "\n",
       "    .dataframe thead th {\n",
       "        text-align: right;\n",
       "    }\n",
       "</style>\n",
       "<table border=\"1\" class=\"dataframe\">\n",
       "  <thead>\n",
       "    <tr style=\"text-align: right;\">\n",
       "      <th></th>\n",
       "      <th>Name</th>\n",
       "      <th>Type</th>\n",
       "      <th>Turnover</th>\n",
       "    </tr>\n",
       "  </thead>\n",
       "  <tbody>\n",
       "    <tr>\n",
       "      <th>0</th>\n",
       "      <td>kevin</td>\n",
       "      <td>A</td>\n",
       "      <td>5</td>\n",
       "    </tr>\n",
       "    <tr>\n",
       "      <th>1</th>\n",
       "      <td>duke</td>\n",
       "      <td>B</td>\n",
       "      <td>10</td>\n",
       "    </tr>\n",
       "    <tr>\n",
       "      <th>2</th>\n",
       "      <td>jonas</td>\n",
       "      <td>A</td>\n",
       "      <td>12</td>\n",
       "    </tr>\n",
       "    <tr>\n",
       "      <th>3</th>\n",
       "      <td>angly</td>\n",
       "      <td>A</td>\n",
       "      <td>2</td>\n",
       "    </tr>\n",
       "    <tr>\n",
       "      <th>4</th>\n",
       "      <td>anjelo</td>\n",
       "      <td>B</td>\n",
       "      <td>10</td>\n",
       "    </tr>\n",
       "    <tr>\n",
       "      <th>5</th>\n",
       "      <td>wily</td>\n",
       "      <td>A</td>\n",
       "      <td>4</td>\n",
       "    </tr>\n",
       "    <tr>\n",
       "      <th>6</th>\n",
       "      <td>nick</td>\n",
       "      <td>A</td>\n",
       "      <td>8</td>\n",
       "    </tr>\n",
       "  </tbody>\n",
       "</table>\n",
       "</div>"
      ],
      "text/plain": [
       "     Name Type  Turnover\n",
       "0   kevin    A         5\n",
       "1    duke    B        10\n",
       "2   jonas    A        12\n",
       "3   angly    A         2\n",
       "4  anjelo    B        10\n",
       "5    wily    A         4\n",
       "6    nick    A         8"
      ]
     },
     "execution_count": 101,
     "metadata": {},
     "output_type": "execute_result"
    }
   ],
   "source": [
    "data = {'Name': ['kevin', 'duke', 'jonas', 'angly', 'anjelo', 'wily', 'nick'],\n",
    "        'Type': ['A', 'B', 'A', 'A', 'B', 'A', 'A'],\n",
    "        'Turnover': [5, 10, 12, 2, 10, 4, 8]}\n",
    "df = pd.DataFrame(data)\n",
    "df"
   ]
  },
  {
   "cell_type": "code",
   "execution_count": 102,
   "metadata": {},
   "outputs": [
    {
     "name": "stdout",
     "output_type": "stream",
     "text": [
      "t:-2.179449471770337 e p:0.04740141289486696\n",
      "Type A players have average less turnovers than Type B players\n"
     ]
    }
   ],
   "source": [
    "t_value,p = stats.ttest_ind(df.Turnover[df.Type.eq('A')], df.Turnover[df.Type.eq('B')], \n",
    "                      equal_var=False, alternative='less')\n",
    "\n",
    "# alternative == pode ser less/ two-sides/ greater\n",
    "\n",
    "print('t:{} e p:{}'.format(t_value,p))\n",
    "\n",
    "if p < 0.05:\n",
    "    print('Type A players have average less turnovers than Type B players')\n",
    "else:\n",
    "    print('Null hypothesis (equal means) cannot be rejected.')"
   ]
  },
  {
   "cell_type": "code",
   "execution_count": 103,
   "metadata": {},
   "outputs": [],
   "source": [
    "mean = df.Turnover[df.Type.eq('B')].mean() \n",
    "std = df.Turnover[df.Type.eq('B')].std()"
   ]
  },
  {
   "cell_type": "markdown",
   "metadata": {},
   "source": [
    "O Colégio Santa Maria exige que os alunos recebam uma média de 2.5 horas de lição de casa toda noite. A diretoria acredita que o tempo médio que eles passam por noite fazendo a lição de casa não é de 2.5 horas, então eles decidiram colher uma amostra aleatória de 16 alunos para saber se existem evidências suficientes para suportar essa suspeita. A diretoria descobre que os alunos da amostra dedicaram uma média de 2.8 por noite à lição de casa, com um desvio-padrão de 0.8 horas.\n",
    "\n",
    "A diretoria quer usar esses dados amostrais para realizar um teste t na média. Considere que todas as condições para inferência foram atendidas."
   ]
  },
  {
   "cell_type": "code",
   "execution_count": 104,
   "metadata": {},
   "outputs": [
    {
     "name": "stdout",
     "output_type": "stream",
     "text": [
      "prob integrada: 0.9228166698091497\n",
      "pvalor: 0.07718333019085033\n",
      "valor de t 1.4999999999999991\n"
     ]
    },
    {
     "data": {
      "image/png": "[encoded data removed]",
      "text/plain": [
       "<Figure size 432x288 with 1 Axes>"
      ]
     },
     "metadata": {
      "needs_background": "light"
     },
     "output_type": "display_data"
    }
   ],
   "source": [
    "x = 2.8\n",
    "media = 2.5\n",
    "desvio= 0.8\n",
    "n=16\n",
    "\n",
    "x_grid = np.linspace(t.ppf(0.001,df=n-1, loc=media,scale=desvio/np.sqrt(n)),\n",
    "                     t.ppf(0.999,df=n-1,  loc=media,scale=desvio/np.sqrt(n)),50)\n",
    "plt.plot(x_grid, \n",
    "        t.pdf(x_grid, df=n-1, loc=media,scale=desvio/np.sqrt(n)), \n",
    "        'bo', ms=8, label='t pmf')\n",
    "\n",
    "plt.axvline(+x, lw=3, c='black' )\n",
    "\n",
    "print('prob integrada:',t.cdf(x, df=n-1, loc=media,scale=desvio/np.sqrt(n)))\n",
    "\n",
    "p = 1 - t.cdf(x, df=n-1, loc=media,scale=desvio/np.sqrt(n))\n",
    "\n",
    "print('pvalor:',p)\n",
    "\n",
    "print('valor de t',(x-media)/(desvio/np.sqrt(n)))"
   ]
  },
  {
   "cell_type": "code",
   "execution_count": 105,
   "metadata": {},
   "outputs": [
    {
     "data": {
      "text/plain": [
       "<matplotlib.lines.Line2D at 0x1b599098048>"
      ]
     },
     "execution_count": 105,
     "metadata": {},
     "output_type": "execute_result"
    },
    {
     "data": {
      "image/png": "[encoded data removed]",
      "text/plain": [
       "<Figure size 432x288 with 1 Axes>"
      ]
     },
     "metadata": {
      "needs_background": "light"
     },
     "output_type": "display_data"
    }
   ],
   "source": [
    "x_grid = np.linspace(t.ppf(0.001,df=n-1, loc=0,scale=1),t.ppf(0.999,df=n-1,  loc=0,scale=1),50)\n",
    "plt.plot(x_grid, \n",
    "        t.pdf(x_grid, df=n-1, loc=0,scale=1), \n",
    "        'bo', ms=8, label='t pmf')\n",
    "\n",
    "plt.axvline(+(x-media)/(desvio/np.sqrt(n)), lw=3, c='black' )\n",
    "plt.axvline(-(x-media)/(desvio/np.sqrt(n)), lw=3, c='black' )"
   ]
  },
  {
   "cell_type": "code",
   "execution_count": 106,
   "metadata": {},
   "outputs": [
    {
     "name": "stdout",
     "output_type": "stream",
     "text": [
      "valor de t: 3.600000000000001\n",
      "0.07718333019085033\n"
     ]
    }
   ],
   "source": [
    "print('valor de t:',(.68-.5)/np.sqrt((0.5*.5)/100))\n",
    "\n",
    "pvalue = 1 - t.cdf(.68, df=100-1, loc=0.5,scale=np.sqrt(0.5*0.5/np.sqrt(n)))\n",
    "print(p)"
   ]
  },
  {
   "cell_type": "code",
   "execution_count": 107,
   "metadata": {},
   "outputs": [
    {
     "data": {
      "text/plain": [
       "0.04550026389635842"
      ]
     },
     "execution_count": 107,
     "metadata": {},
     "output_type": "execute_result"
    }
   ],
   "source": [
    "(1-norm.cdf((.14-.1)/np.sqrt(.9*.1/225), loc=0,scale=1))*2"
   ]
  },
  {
   "cell_type": "code",
   "execution_count": 108,
   "metadata": {},
   "outputs": [
    {
     "name": "stdout",
     "output_type": "stream",
     "text": [
      "0.04550026389635842\n"
     ]
    }
   ],
   "source": [
    "x = .14\n",
    "media = 0.1\n",
    "desvio= 0.1*0.9\n",
    "n=225\n",
    "scale = np.sqrt(desvio/n)\n",
    "\n",
    "p = 1 - norm.cdf(x, loc=media,scale=scale)\n",
    "print(p*2)"
   ]
  },
  {
   "cell_type": "markdown",
   "metadata": {},
   "source": [
    "# Distribuição Normal"
   ]
  },
  {
   "cell_type": "code",
   "execution_count": 109,
   "metadata": {},
   "outputs": [
    {
     "name": "stdout",
     "output_type": "stream",
     "text": [
      "media:0.047072276840491534 - var: 1.0478442811788249\n"
     ]
    },
    {
     "data": {
      "image/png": "[encoded data removed]",
      "text/plain": [
       "<Figure size 432x288 with 1 Axes>"
      ]
     },
     "metadata": {
      "needs_background": "light"
     },
     "output_type": "display_data"
    }
   ],
   "source": [
    "X = stats.norm.rvs(size=1000)\n",
    "\n",
    "mu = X.mean()\n",
    "var = X.var()\n",
    "\n",
    "print(f'media:{mu} - var: {var}')\n",
    "\n",
    "plt.plot(X);"
   ]
  },
  {
   "cell_type": "code",
   "execution_count": 110,
   "metadata": {},
   "outputs": [
    {
     "data": {
      "text/plain": [
       "<matplotlib.collections.LineCollection at 0x1b598ef23c8>"
      ]
     },
     "execution_count": 110,
     "metadata": {},
     "output_type": "execute_result"
    },
    {
     "data": {
      "image/png": "[encoded data removed]",
      "text/plain": [
       "<Figure size 432x360 with 1 Axes>"
      ]
     },
     "metadata": {
      "needs_background": "light"
     },
     "output_type": "display_data"
    }
   ],
   "source": [
    "fig, ax = plt.subplots(1,1,figsize=(6,5))\n",
    "\n",
    "ax.hist(X, bins=15)\n",
    "ax.vlines(var, ymin=0, ymax=200)\n",
    "ax.vlines(-var, ymin=0, ymax=200)\n",
    "ax.vlines(2*var, ymin=0, ymax=200)\n",
    "ax.vlines(-2*var, ymin=0, ymax=200)"
   ]
  },
  {
   "cell_type": "markdown",
   "metadata": {},
   "source": [
    "# Distribuição Qui-quadrado\n",
    "\n",
    "\n",
    "$ \\chi^2 = \\frac{(Observado - Esperado)^2}{Esperado} $"
   ]
  },
  {
   "cell_type": "code",
   "execution_count": 111,
   "metadata": {},
   "outputs": [
    {
     "data": {
      "text/plain": [
       "<matplotlib.legend.Legend at 0x1b598fc9948>"
      ]
     },
     "execution_count": 111,
     "metadata": {},
     "output_type": "execute_result"
    },
    {
     "data": {
      "image/png": "[encoded data removed]",
      "text/plain": [
       "<Figure size 720x360 with 1 Axes>"
      ]
     },
     "metadata": {
      "needs_background": "light"
     },
     "output_type": "display_data"
    }
   ],
   "source": [
    "fig, ax = plt.subplots(1,1,figsize=(10,5))\n",
    "\n",
    "for n_i in range(2,10):\n",
    "\n",
    "    n=n_i\n",
    "\n",
    "    x = np.linspace(chi2.ppf(0.01, df=n-1),chi2.ppf(0.99, df=n-1),100)\n",
    "\n",
    "    ax.plot(x, chi2.pdf(x, df=n-1), label = n_i)\n",
    "    \n",
    "    \n",
    "ax.set_ylim([0,0.6])\n",
    "plt.legend()"
   ]
  },
  {
   "cell_type": "code",
   "execution_count": 112,
   "metadata": {},
   "outputs": [
    {
     "data": {
      "text/plain": [
       "(array([12., 12., 12., 14., 15.,  4.,  7.,  9.,  4.,  3.,  1.,  2.,  2.,\n",
       "         0.,  3.]),\n",
       " array([ 0.10816687,  1.09247215,  2.07677743,  3.0610827 ,  4.04538798,\n",
       "         5.02969326,  6.01399854,  6.99830381,  7.98260909,  8.96691437,\n",
       "         9.95121965, 10.93552492, 11.9198302 , 12.90413548, 13.88844076,\n",
       "        14.87274603]),\n",
       " <BarContainer object of 15 artists>)"
      ]
     },
     "execution_count": 112,
     "metadata": {},
     "output_type": "execute_result"
    },
    {
     "data": {
      "image/png": "[encoded data removed]",
      "text/plain": [
       "<Figure size 432x360 with 1 Axes>"
      ]
     },
     "metadata": {
      "needs_background": "light"
     },
     "output_type": "display_data"
    }
   ],
   "source": [
    "fig, ax = plt.subplots(1,1,figsize=(6,5))\n",
    "\n",
    "X1= np.random.choice(X,100)\n",
    "X2= np.random.choice(X,100)\n",
    "X3= np.random.choice(X,100)\n",
    "X4= np.random.choice(X,100)\n",
    "\n",
    "\n",
    "Q1=X1**2\n",
    "Q2=X1**2 + X2**2\n",
    "Q3=X1**2 + X2**2 + X3**2\n",
    "Q4=X1**2 + X2**2 + X3**2 + X4**2\n",
    "\n",
    "\n",
    "ax.hist(Q1, bins=15, color='b', alpha=0.5)\n",
    "ax.hist(Q2, bins=15, color='g', alpha=0.5)\n",
    "ax.hist(Q3, bins=15, color='r', alpha=0.5)\n",
    "ax.hist(Q4, bins=15, color='y', alpha=0.5)"
   ]
  },
  {
   "cell_type": "code",
   "execution_count": 113,
   "metadata": {},
   "outputs": [
    {
     "name": "stdout",
     "output_type": "stream",
     "text": [
      "0.35\n"
     ]
    }
   ],
   "source": [
    "print(np.sum(Q2>2.41)/ Q2.shape[0])"
   ]
  },
  {
   "cell_type": "code",
   "execution_count": 119,
   "metadata": {},
   "outputs": [],
   "source": [
    "# Exemplo de aplicação\n",
    "df =pd.DataFrame({'correct_choice':['A','B','C','D'],\n",
    "                  'expected':[0.25,0.25,0.25,0.25],\n",
    "                  'actual': [0.20,0.20,0.25,0.35]})\n",
    "df[['expected','actual']]=100*df[['expected','actual']]"
   ]
  },
  {
   "cell_type": "code",
   "execution_count": 120,
   "metadata": {},
   "outputs": [
    {
     "data": {
      "text/html": [
       "<div>\n",
       "<style scoped>\n",
       "    .dataframe tbody tr th:only-of-type {\n",
       "        vertical-align: middle;\n",
       "    }\n",
       "\n",
       "    .dataframe tbody tr th {\n",
       "        vertical-align: top;\n",
       "    }\n",
       "\n",
       "    .dataframe thead th {\n",
       "        text-align: right;\n",
       "    }\n",
       "</style>\n",
       "<table border=\"1\" class=\"dataframe\">\n",
       "  <thead>\n",
       "    <tr style=\"text-align: right;\">\n",
       "      <th></th>\n",
       "      <th>correct_choice</th>\n",
       "      <th>expected</th>\n",
       "      <th>actual</th>\n",
       "      <th>X^2</th>\n",
       "    </tr>\n",
       "  </thead>\n",
       "  <tbody>\n",
       "    <tr>\n",
       "      <th>0</th>\n",
       "      <td>A</td>\n",
       "      <td>25.0</td>\n",
       "      <td>20.0</td>\n",
       "      <td>1.0</td>\n",
       "    </tr>\n",
       "    <tr>\n",
       "      <th>1</th>\n",
       "      <td>B</td>\n",
       "      <td>25.0</td>\n",
       "      <td>20.0</td>\n",
       "      <td>1.0</td>\n",
       "    </tr>\n",
       "    <tr>\n",
       "      <th>2</th>\n",
       "      <td>C</td>\n",
       "      <td>25.0</td>\n",
       "      <td>25.0</td>\n",
       "      <td>0.0</td>\n",
       "    </tr>\n",
       "    <tr>\n",
       "      <th>3</th>\n",
       "      <td>D</td>\n",
       "      <td>25.0</td>\n",
       "      <td>35.0</td>\n",
       "      <td>4.0</td>\n",
       "    </tr>\n",
       "  </tbody>\n",
       "</table>\n",
       "</div>"
      ],
      "text/plain": [
       "  correct_choice  expected  actual  X^2\n",
       "0              A      25.0    20.0  1.0\n",
       "1              B      25.0    20.0  1.0\n",
       "2              C      25.0    25.0  0.0\n",
       "3              D      25.0    35.0  4.0"
      ]
     },
     "execution_count": 120,
     "metadata": {},
     "output_type": "execute_result"
    }
   ],
   "source": [
    "df['X^2'] = (df['expected'] - df['actual'])**2/(df['expected'])\n",
    "df"
   ]
  },
  {
   "cell_type": "code",
   "execution_count": 121,
   "metadata": {},
   "outputs": [
    {
     "data": {
      "text/plain": [
       "6.0"
      ]
     },
     "execution_count": 121,
     "metadata": {},
     "output_type": "execute_result"
    }
   ],
   "source": [
    "df['X^2'].sum()"
   ]
  },
  {
   "cell_type": "code",
   "execution_count": 122,
   "metadata": {},
   "outputs": [],
   "source": [
    "# plt.plot(x, chi2.cdf(x, df=n-1))"
   ]
  },
  {
   "cell_type": "code",
   "execution_count": 124,
   "metadata": {},
   "outputs": [
    {
     "name": "stdout",
     "output_type": "stream",
     "text": [
      "Valor crítico: 11.070497693516351\n"
     ]
    },
    {
     "data": {
      "image/png": "[encoded data removed]",
      "text/plain": [
       "<Figure size 432x288 with 1 Axes>"
      ]
     },
     "metadata": {
      "needs_background": "light"
     },
     "output_type": "display_data"
    }
   ],
   "source": [
    "n=6\n",
    "alpha = 0.05\n",
    "\n",
    "x = np.linspace(chi2.ppf(0.01, df=n-1),chi2.ppf(0.99, df=n-1),100)\n",
    "\n",
    "plt.plot(x, chi2.pdf(x, df=n-1), label = n_i)\n",
    "\n",
    "plt.vlines(chi2.ppf(1-alpha, df=5), ymin=0, ymax=0.2, colors='black')\n",
    "print('Valor crítico:',chi2.ppf(1-alpha, df=5))"
   ]
  },
  {
   "cell_type": "code",
   "execution_count": 85,
   "metadata": {},
   "outputs": [
    {
     "data": {
      "text/plain": [
       "[<matplotlib.lines.Line2D at 0x29368131888>]"
      ]
     },
     "execution_count": 85,
     "metadata": {},
     "output_type": "execute_result"
    },
    {
     "data": {
      "image/png": "[encoded data removed]",
      "text/plain": [
       "<Figure size 432x288 with 1 Axes>"
      ]
     },
     "metadata": {
      "needs_background": "light"
     },
     "output_type": "display_data"
    }
   ],
   "source": [
    "# np.linspace(chi2.ppf(0.001),chi2.ppf(0.999),50)\n",
    "\n",
    "# values = [chi2.pdf(i,3) for i in range(0,50)]\n",
    "# plt.plot(values)"
   ]
  },
  {
   "cell_type": "code",
   "execution_count": 125,
   "metadata": {},
   "outputs": [],
   "source": [
    "# values = [chi2.pdf(i,3) for i in range(0,20)]\n",
    "# fig, ax = plt.subplots(1,1,figsize=(6,5))\n",
    "\n",
    "# ax.plot(values)\n",
    "# ax.vlines(6.25, ymin=0, ymax=0.25, color='g')\n",
    "# ax.vlines(7.81, ymin=0, ymax=0.25, color='r')\n",
    "# ax.vlines(6, ymin=0, ymax=0.25)\n"
   ]
  },
  {
   "cell_type": "code",
   "execution_count": 133,
   "metadata": {},
   "outputs": [],
   "source": [
    "# ?chi2_contingency\n",
    "# This function computes the chi-square statistic and p-value for the\n",
    "# hypothesis test of independence of the observed frequencies in the\n",
    "# contingency table [1]_ `observed`.  The expected frequencies are computed\n",
    "# based on the marginal sums under the assumption of independence\n",
    "\n",
    "# Returns\n",
    "# -------\n",
    "# chi2 : float\n",
    "#     The test statistic.\n",
    "# p : float\n",
    "#     The p-value of the test\n",
    "# dof : int\n",
    "#     Degrees of freedom\n",
    "# expected : ndarray, same shape as `observed`\n",
    "#     The expected frequencies, based on the marginal sums of the table."
   ]
  },
  {
   "cell_type": "code",
   "execution_count": 134,
   "metadata": {},
   "outputs": [
    {
     "data": {
      "text/html": [
       "<div>\n",
       "<style scoped>\n",
       "    .dataframe tbody tr th:only-of-type {\n",
       "        vertical-align: middle;\n",
       "    }\n",
       "\n",
       "    .dataframe tbody tr th {\n",
       "        vertical-align: top;\n",
       "    }\n",
       "\n",
       "    .dataframe thead th {\n",
       "        text-align: right;\n",
       "    }\n",
       "</style>\n",
       "<table border=\"1\" class=\"dataframe\">\n",
       "  <thead>\n",
       "    <tr style=\"text-align: right;\">\n",
       "      <th></th>\n",
       "      <th>correct_choice</th>\n",
       "      <th>expected</th>\n",
       "      <th>actual</th>\n",
       "      <th>X^2</th>\n",
       "    </tr>\n",
       "  </thead>\n",
       "  <tbody>\n",
       "    <tr>\n",
       "      <th>0</th>\n",
       "      <td>A</td>\n",
       "      <td>25.0</td>\n",
       "      <td>20.0</td>\n",
       "      <td>1.0</td>\n",
       "    </tr>\n",
       "    <tr>\n",
       "      <th>1</th>\n",
       "      <td>B</td>\n",
       "      <td>25.0</td>\n",
       "      <td>20.0</td>\n",
       "      <td>1.0</td>\n",
       "    </tr>\n",
       "    <tr>\n",
       "      <th>2</th>\n",
       "      <td>C</td>\n",
       "      <td>25.0</td>\n",
       "      <td>25.0</td>\n",
       "      <td>0.0</td>\n",
       "    </tr>\n",
       "    <tr>\n",
       "      <th>3</th>\n",
       "      <td>D</td>\n",
       "      <td>25.0</td>\n",
       "      <td>35.0</td>\n",
       "      <td>4.0</td>\n",
       "    </tr>\n",
       "  </tbody>\n",
       "</table>\n",
       "</div>"
      ],
      "text/plain": [
       "  correct_choice  expected  actual  X^2\n",
       "0              A      25.0    20.0  1.0\n",
       "1              B      25.0    20.0  1.0\n",
       "2              C      25.0    25.0  0.0\n",
       "3              D      25.0    35.0  4.0"
      ]
     },
     "execution_count": 134,
     "metadata": {},
     "output_type": "execute_result"
    }
   ],
   "source": [
    "df"
   ]
  },
  {
   "cell_type": "code",
   "execution_count": 130,
   "metadata": {},
   "outputs": [
    {
     "data": {
      "text/plain": [
       "(2.7777777777777777,\n",
       " 0.4271711671881252,\n",
       " 3,\n",
       " array([[22.5, 22.5],\n",
       "        [22.5, 22.5],\n",
       "        [25. , 25. ],\n",
       "        [30. , 30. ]]))"
      ]
     },
     "execution_count": 130,
     "metadata": {},
     "output_type": "execute_result"
    }
   ],
   "source": [
    "from scipy.stats import chi2_contingency\n",
    "chi2_contingency(df[['expected','actual']])"
   ]
  },
  {
   "cell_type": "code",
   "execution_count": 135,
   "metadata": {},
   "outputs": [
    {
     "data": {
      "text/plain": [
       "Power_divergenceResult(statistic=5.25, pvalue=0.07243975703425146)"
      ]
     },
     "execution_count": 135,
     "metadata": {},
     "output_type": "execute_result"
    }
   ],
   "source": [
    "from scipy.stats import chisquare\n",
    "\n",
    "chisquare([4,13,7], f_exp=[8,8,8])"
   ]
  },
  {
   "cell_type": "code",
   "execution_count": 140,
   "metadata": {},
   "outputs": [
    {
     "data": {
      "text/html": [
       "<div>\n",
       "<style scoped>\n",
       "    .dataframe tbody tr th:only-of-type {\n",
       "        vertical-align: middle;\n",
       "    }\n",
       "\n",
       "    .dataframe tbody tr th {\n",
       "        vertical-align: top;\n",
       "    }\n",
       "\n",
       "    .dataframe thead th {\n",
       "        text-align: right;\n",
       "    }\n",
       "</style>\n",
       "<table border=\"1\" class=\"dataframe\">\n",
       "  <thead>\n",
       "    <tr style=\"text-align: right;\">\n",
       "      <th></th>\n",
       "      <th>correct_choice</th>\n",
       "      <th>expected</th>\n",
       "      <th>actual</th>\n",
       "      <th>X^2</th>\n",
       "    </tr>\n",
       "  </thead>\n",
       "  <tbody>\n",
       "    <tr>\n",
       "      <th>0</th>\n",
       "      <td>A</td>\n",
       "      <td>25.0</td>\n",
       "      <td>20.0</td>\n",
       "      <td>1.0</td>\n",
       "    </tr>\n",
       "    <tr>\n",
       "      <th>1</th>\n",
       "      <td>B</td>\n",
       "      <td>25.0</td>\n",
       "      <td>20.0</td>\n",
       "      <td>1.0</td>\n",
       "    </tr>\n",
       "    <tr>\n",
       "      <th>2</th>\n",
       "      <td>C</td>\n",
       "      <td>25.0</td>\n",
       "      <td>25.0</td>\n",
       "      <td>0.0</td>\n",
       "    </tr>\n",
       "    <tr>\n",
       "      <th>3</th>\n",
       "      <td>D</td>\n",
       "      <td>25.0</td>\n",
       "      <td>35.0</td>\n",
       "      <td>4.0</td>\n",
       "    </tr>\n",
       "  </tbody>\n",
       "</table>\n",
       "</div>"
      ],
      "text/plain": [
       "  correct_choice  expected  actual  X^2\n",
       "0              A      25.0    20.0  1.0\n",
       "1              B      25.0    20.0  1.0\n",
       "2              C      25.0    25.0  0.0\n",
       "3              D      25.0    35.0  4.0"
      ]
     },
     "execution_count": 140,
     "metadata": {},
     "output_type": "execute_result"
    }
   ],
   "source": [
    "df"
   ]
  },
  {
   "cell_type": "code",
   "execution_count": 147,
   "metadata": {},
   "outputs": [
    {
     "name": "stdout",
     "output_type": "stream",
     "text": [
      "1.0\n",
      "2.0\n",
      "2.0\n",
      "6.0\n"
     ]
    },
    {
     "data": {
      "text/plain": [
       "5.25"
      ]
     },
     "execution_count": 147,
     "metadata": {},
     "output_type": "execute_result"
    }
   ],
   "source": [
    "def calculo_var(real,expected):\n",
    "    return ((real - expected)**2)/expected\n",
    "\n",
    "def x_squared(real,expected):\n",
    "    x2=0\n",
    "    for i in range(len(real)):\n",
    "        x2+=calculo_var(real[i],expected[i])\n",
    "        print(x2)\n",
    "    return x2\n",
    "\n",
    "x_squared(df['actual'],df['expected'])"
   ]
  },
  {
   "cell_type": "code",
   "execution_count": 149,
   "metadata": {},
   "outputs": [
    {
     "data": {
      "text/html": [
       "<div>\n",
       "<style scoped>\n",
       "    .dataframe tbody tr th:only-of-type {\n",
       "        vertical-align: middle;\n",
       "    }\n",
       "\n",
       "    .dataframe tbody tr th {\n",
       "        vertical-align: top;\n",
       "    }\n",
       "\n",
       "    .dataframe thead th {\n",
       "        text-align: right;\n",
       "    }\n",
       "</style>\n",
       "<table border=\"1\" class=\"dataframe\">\n",
       "  <thead>\n",
       "    <tr style=\"text-align: right;\">\n",
       "      <th></th>\n",
       "      <th>correct_choice</th>\n",
       "      <th>expected</th>\n",
       "      <th>actual</th>\n",
       "      <th>X^2</th>\n",
       "    </tr>\n",
       "  </thead>\n",
       "  <tbody>\n",
       "    <tr>\n",
       "      <th>0</th>\n",
       "      <td>A</td>\n",
       "      <td>25.0</td>\n",
       "      <td>20.0</td>\n",
       "      <td>1.0</td>\n",
       "    </tr>\n",
       "    <tr>\n",
       "      <th>1</th>\n",
       "      <td>B</td>\n",
       "      <td>25.0</td>\n",
       "      <td>20.0</td>\n",
       "      <td>1.0</td>\n",
       "    </tr>\n",
       "    <tr>\n",
       "      <th>2</th>\n",
       "      <td>C</td>\n",
       "      <td>25.0</td>\n",
       "      <td>25.0</td>\n",
       "      <td>0.0</td>\n",
       "    </tr>\n",
       "    <tr>\n",
       "      <th>3</th>\n",
       "      <td>D</td>\n",
       "      <td>25.0</td>\n",
       "      <td>35.0</td>\n",
       "      <td>4.0</td>\n",
       "    </tr>\n",
       "  </tbody>\n",
       "</table>\n",
       "</div>"
      ],
      "text/plain": [
       "  correct_choice  expected  actual  X^2\n",
       "0              A      25.0    20.0  1.0\n",
       "1              B      25.0    20.0  1.0\n",
       "2              C      25.0    25.0  0.0\n",
       "3              D      25.0    35.0  4.0"
      ]
     },
     "execution_count": 149,
     "metadata": {},
     "output_type": "execute_result"
    }
   ],
   "source": [
    "df"
   ]
  },
  {
   "cell_type": "code",
   "execution_count": 152,
   "metadata": {},
   "outputs": [],
   "source": [
    "# pd.crosstab(df['correct_choice'],df['expected'], margins=True)"
   ]
  },
  {
   "cell_type": "code",
   "execution_count": 153,
   "metadata": {},
   "outputs": [
    {
     "data": {
      "text/plain": [
       "[<matplotlib.lines.Line2D at 0x1b599476548>]"
      ]
     },
     "execution_count": 153,
     "metadata": {},
     "output_type": "execute_result"
    },
    {
     "data": {
      "image/png": "[encoded data removed]",
      "text/plain": [
       "<Figure size 432x288 with 1 Axes>"
      ]
     },
     "metadata": {
      "needs_background": "light"
     },
     "output_type": "display_data"
    }
   ],
   "source": [
    "# # Maximum Likelihood\n",
    "\n",
    "# from scipy.special import comb\n",
    "# import matplotlib.pyplot as plt\n",
    "\n",
    "# f = lambda p: comb(10,5)*(p**5)*(1-p)**(5)\n",
    "\n",
    "# plt.plot(np.arange(0,1,0.01),[f(p) for p in np.arange(0,1,0.01)])"
   ]
  },
  {
   "cell_type": "code",
   "execution_count": 18,
   "metadata": {},
   "outputs": [],
   "source": [
    "# s = np.random.binomial(n, p, 1000)"
   ]
  },
  {
   "cell_type": "code",
   "execution_count": 154,
   "metadata": {},
   "outputs": [],
   "source": [
    "# # g = lambda y,yhat : np.log(yhat)*y + np.log(1-yhat)*(1-y)\n",
    "# g = lambda y,yhat : (np.log(yhat)**y)*(np.log(1-yhat)**(1-y))\n",
    "\n",
    "# plt.plot(np.arange(0,1,0.001),[g(1,yhat) for yhat in np.arange(0,1,0.001)], c='b');\n",
    "# plt.plot(np.arange(0,1,0.001),[g(0,yhat) for yhat in np.arange(0,1,0.001)], c='r');\n"
   ]
  },
  {
   "cell_type": "code",
   "execution_count": 155,
   "metadata": {},
   "outputs": [],
   "source": [
    "import operator as op\n",
    "from functools import reduce\n",
    "\n",
    "def ncr(n, r):\n",
    "    r = min(r, n-r)\n",
    "    numer = reduce(op.mul, range(n, n-r, -1), 1)\n",
    "    denom = reduce(op.mul, range(1, r+1), 1)\n",
    "    return numer // denom"
   ]
  },
  {
   "cell_type": "code",
   "execution_count": 164,
   "metadata": {},
   "outputs": [
    {
     "name": "stdout",
     "output_type": "stream",
     "text": [
      "[]\n",
      "\n",
      "\n",
      "[1]\n",
      "\n",
      "\n",
      "[1, 2]\n",
      "\n",
      "\n",
      "[1, 3, 3]\n",
      "\n",
      "\n",
      "[1, 4, 6, 4]\n",
      "\n",
      "\n",
      "[1, 5, 10, 10, 5]\n",
      "\n",
      "\n",
      "[1, 6, 15, 20, 15, 6]\n",
      "\n",
      "\n",
      "[1, 7, 21, 35, 35, 21, 7]\n",
      "\n",
      "\n",
      "[1, 8, 28, 56, 70, 56, 28, 8]\n",
      "\n",
      "\n",
      "[1, 9, 36, 84, 126, 126, 84, 36, 9]\n",
      "\n",
      "\n",
      "[1, 10, 45, 120, 210, 252, 210, 120, 45, 10]\n",
      "\n",
      "\n",
      "[1, 11, 55, 165, 330, 462, 462, 330, 165, 55, 11]\n",
      "\n",
      "\n",
      "[1, 12, 66, 220, 495, 792, 924, 792, 495, 220, 66, 12]\n",
      "\n",
      "\n",
      "[1, 13, 78, 286, 715, 1287, 1716, 1716, 1287, 715, 286, 78, 13]\n",
      "\n",
      "\n",
      "[1, 14, 91, 364, 1001, 2002, 3003, 3432, 3003, 2002, 1001, 364, 91, 14]\n",
      "\n",
      "\n"
     ]
    }
   ],
   "source": [
    "for i in range(0,15):\n",
    "    print([ncr(i, j) for j in range(0,i)])\n",
    "    print('\\n')"
   ]
  },
  {
   "cell_type": "code",
   "execution_count": 165,
   "metadata": {},
   "outputs": [
    {
     "data": {
      "text/html": [
       "<div>\n",
       "<style scoped>\n",
       "    .dataframe tbody tr th:only-of-type {\n",
       "        vertical-align: middle;\n",
       "    }\n",
       "\n",
       "    .dataframe tbody tr th {\n",
       "        vertical-align: top;\n",
       "    }\n",
       "\n",
       "    .dataframe thead th {\n",
       "        text-align: right;\n",
       "    }\n",
       "</style>\n",
       "<table border=\"1\" class=\"dataframe\">\n",
       "  <thead>\n",
       "    <tr style=\"text-align: right;\">\n",
       "      <th></th>\n",
       "      <th>CRIM</th>\n",
       "      <th>ZN</th>\n",
       "      <th>INDUS</th>\n",
       "      <th>CHAS</th>\n",
       "      <th>NOX</th>\n",
       "      <th>RM</th>\n",
       "      <th>AGE</th>\n",
       "      <th>DIS</th>\n",
       "      <th>RAD</th>\n",
       "      <th>TAX</th>\n",
       "      <th>PTRATIO</th>\n",
       "      <th>B</th>\n",
       "      <th>LSTAT</th>\n",
       "      <th>target</th>\n",
       "    </tr>\n",
       "  </thead>\n",
       "  <tbody>\n",
       "    <tr>\n",
       "      <th>0</th>\n",
       "      <td>0.00632</td>\n",
       "      <td>18.0</td>\n",
       "      <td>2.31</td>\n",
       "      <td>0.0</td>\n",
       "      <td>0.538</td>\n",
       "      <td>6.575</td>\n",
       "      <td>65.2</td>\n",
       "      <td>4.0900</td>\n",
       "      <td>1.0</td>\n",
       "      <td>296.0</td>\n",
       "      <td>15.3</td>\n",
       "      <td>396.90</td>\n",
       "      <td>4.98</td>\n",
       "      <td>24.0</td>\n",
       "    </tr>\n",
       "    <tr>\n",
       "      <th>1</th>\n",
       "      <td>0.02731</td>\n",
       "      <td>0.0</td>\n",
       "      <td>7.07</td>\n",
       "      <td>0.0</td>\n",
       "      <td>0.469</td>\n",
       "      <td>6.421</td>\n",
       "      <td>78.9</td>\n",
       "      <td>4.9671</td>\n",
       "      <td>2.0</td>\n",
       "      <td>242.0</td>\n",
       "      <td>17.8</td>\n",
       "      <td>396.90</td>\n",
       "      <td>9.14</td>\n",
       "      <td>21.6</td>\n",
       "    </tr>\n",
       "    <tr>\n",
       "      <th>2</th>\n",
       "      <td>0.02729</td>\n",
       "      <td>0.0</td>\n",
       "      <td>7.07</td>\n",
       "      <td>0.0</td>\n",
       "      <td>0.469</td>\n",
       "      <td>7.185</td>\n",
       "      <td>61.1</td>\n",
       "      <td>4.9671</td>\n",
       "      <td>2.0</td>\n",
       "      <td>242.0</td>\n",
       "      <td>17.8</td>\n",
       "      <td>392.83</td>\n",
       "      <td>4.03</td>\n",
       "      <td>34.7</td>\n",
       "    </tr>\n",
       "    <tr>\n",
       "      <th>3</th>\n",
       "      <td>0.03237</td>\n",
       "      <td>0.0</td>\n",
       "      <td>2.18</td>\n",
       "      <td>0.0</td>\n",
       "      <td>0.458</td>\n",
       "      <td>6.998</td>\n",
       "      <td>45.8</td>\n",
       "      <td>6.0622</td>\n",
       "      <td>3.0</td>\n",
       "      <td>222.0</td>\n",
       "      <td>18.7</td>\n",
       "      <td>394.63</td>\n",
       "      <td>2.94</td>\n",
       "      <td>33.4</td>\n",
       "    </tr>\n",
       "    <tr>\n",
       "      <th>4</th>\n",
       "      <td>0.06905</td>\n",
       "      <td>0.0</td>\n",
       "      <td>2.18</td>\n",
       "      <td>0.0</td>\n",
       "      <td>0.458</td>\n",
       "      <td>7.147</td>\n",
       "      <td>54.2</td>\n",
       "      <td>6.0622</td>\n",
       "      <td>3.0</td>\n",
       "      <td>222.0</td>\n",
       "      <td>18.7</td>\n",
       "      <td>396.90</td>\n",
       "      <td>5.33</td>\n",
       "      <td>36.2</td>\n",
       "    </tr>\n",
       "  </tbody>\n",
       "</table>\n",
       "</div>"
      ],
      "text/plain": [
       "      CRIM    ZN  INDUS  CHAS    NOX     RM   AGE     DIS  RAD    TAX  \\\n",
       "0  0.00632  18.0   2.31   0.0  0.538  6.575  65.2  4.0900  1.0  296.0   \n",
       "1  0.02731   0.0   7.07   0.0  0.469  6.421  78.9  4.9671  2.0  242.0   \n",
       "2  0.02729   0.0   7.07   0.0  0.469  7.185  61.1  4.9671  2.0  242.0   \n",
       "3  0.03237   0.0   2.18   0.0  0.458  6.998  45.8  6.0622  3.0  222.0   \n",
       "4  0.06905   0.0   2.18   0.0  0.458  7.147  54.2  6.0622  3.0  222.0   \n",
       "\n",
       "   PTRATIO       B  LSTAT  target  \n",
       "0     15.3  396.90   4.98    24.0  \n",
       "1     17.8  396.90   9.14    21.6  \n",
       "2     17.8  392.83   4.03    34.7  \n",
       "3     18.7  394.63   2.94    33.4  \n",
       "4     18.7  396.90   5.33    36.2  "
      ]
     },
     "execution_count": 165,
     "metadata": {},
     "output_type": "execute_result"
    }
   ],
   "source": [
    "from sklearn.datasets import load_boston\n",
    "\n",
    "load_df = load_boston()\n",
    "dataset = pd.concat([pd.DataFrame(load_df.data,columns = load_df.feature_names)\n",
    "                     ,pd.DataFrame(load_df.target,columns = ['target'])], axis=1)\n",
    "\n",
    "dataset.head()"
   ]
  },
  {
   "cell_type": "code",
   "execution_count": 180,
   "metadata": {},
   "outputs": [
    {
     "data": {
      "text/plain": [
       "506"
      ]
     },
     "execution_count": 180,
     "metadata": {},
     "output_type": "execute_result"
    }
   ],
   "source": [
    "dataset['target'].value_counts().sum()"
   ]
  },
  {
   "cell_type": "code",
   "execution_count": 190,
   "metadata": {},
   "outputs": [
    {
     "data": {
      "text/plain": [
       "<matplotlib.collections.LineCollection at 0x1b59b6c8188>"
      ]
     },
     "execution_count": 190,
     "metadata": {},
     "output_type": "execute_result"
    },
    {
     "data": {
      "image/png": "[encoded data removed]",
      "text/plain": [
       "<Figure size 432x288 with 1 Axes>"
      ]
     },
     "metadata": {
      "needs_background": "light"
     },
     "output_type": "display_data"
    }
   ],
   "source": [
    "dataset['target'].hist()\n",
    "\n",
    "plt.vlines(dataset['target'].mean(), ymin=0, ymax=200, colors='black')\n",
    "plt.vlines(dataset['target'].median(), ymin=0, ymax=200, colors='orange')\n",
    "plt.vlines(dataset['target'].mode(), ymin=0, ymax=200, colors='red')"
   ]
  },
  {
   "cell_type": "code",
   "execution_count": 194,
   "metadata": {},
   "outputs": [
    {
     "data": {
      "text/plain": [
       "<matplotlib.collections.LineCollection at 0x1b59b823308>"
      ]
     },
     "execution_count": 194,
     "metadata": {},
     "output_type": "execute_result"
    },
    {
     "data": {
      "image/png": "[encoded data removed]",
      "text/plain": [
       "<Figure size 432x288 with 1 Axes>"
      ]
     },
     "metadata": {
      "needs_background": "light"
     },
     "output_type": "display_data"
    }
   ],
   "source": [
    "trns_target = np.log(dataset['target'])\n",
    "\n",
    "trns_target.hist()\n",
    "\n",
    "plt.vlines(trns_target.mean(), ymin=0, ymax=200, colors='black')\n",
    "plt.vlines(trns_target.median(), ymin=0, ymax=200, colors='orange')\n",
    "plt.vlines(trns_target.mode(), ymin=0, ymax=200, colors='red')"
   ]
  },
  {
   "cell_type": "code",
   "execution_count": 195,
   "metadata": {},
   "outputs": [
    {
     "data": {
      "text/plain": [
       "1.104810822864635"
      ]
     },
     "execution_count": 195,
     "metadata": {},
     "output_type": "execute_result"
    }
   ],
   "source": [
    "from scipy.stats import skew\n",
    "skew(dataset['target'])"
   ]
  },
  {
   "cell_type": "code",
   "execution_count": 196,
   "metadata": {},
   "outputs": [
    {
     "data": {
      "text/plain": [
       "-0.32934127453151935"
      ]
     },
     "execution_count": 196,
     "metadata": {},
     "output_type": "execute_result"
    }
   ],
   "source": [
    "from scipy.stats import skew\n",
    "skew(trns_target)"
   ]
  },
  {
   "cell_type": "code",
   "execution_count": 231,
   "metadata": {},
   "outputs": [
    {
     "name": "stdout",
     "output_type": "stream",
     "text": [
      "skew: 0.3507217930644244\n"
     ]
    },
    {
     "data": {
      "text/plain": [
       "<matplotlib.collections.LineCollection at 0x1b59ca234c8>"
      ]
     },
     "execution_count": 231,
     "metadata": {},
     "output_type": "execute_result"
    },
    {
     "data": {
      "image/png": "[encoded data removed]",
      "text/plain": [
       "<Figure size 432x288 with 1 Axes>"
      ]
     },
     "metadata": {
      "needs_background": "light"
     },
     "output_type": "display_data"
    }
   ],
   "source": [
    "from scipy.stats import skew\n",
    "\n",
    "normal = stats.norm.rvs(size=200)\n",
    "\n",
    "print('skew:',skew(normal))\n",
    "\n",
    "normal = pd.Series(normal)\n",
    "\n",
    "normal.hist()\n",
    "\n",
    "plt.vlines(normal.mean(), ymin=0, ymax=50, colors='black')\n",
    "plt.vlines(normal.median(), ymin=0, ymax=50, colors='orange')\n",
    "# plt.vlines(normal.mode(), ymin=0, ymax=200, colors='red')"
   ]
  },
  {
   "cell_type": "markdown",
   "metadata": {},
   "source": [
    "# Wilcoxon signed-rank test\n",
    "\n",
    "Given n independent samples (xi, yi) from a bivariate distribution (i.e. paired samples), it computes the differences di = xi - yi. One assumption of the test is that the differences are symmetric. The two-sided test has the null hypothesis that the median of the differences is zero against the alternative that it is different from zero. \n",
    "\n",
    "- null hypothesis: that two related paired samples come from the same distribution"
   ]
  },
  {
   "cell_type": "code",
   "execution_count": 233,
   "metadata": {},
   "outputs": [
    {
     "data": {
      "text/plain": [
       "WilcoxonResult(statistic=9715.0, pvalue=0.6827179906340388)"
      ]
     },
     "execution_count": 233,
     "metadata": {},
     "output_type": "execute_result"
    }
   ],
   "source": [
    "from scipy.stats import wilcoxon\n",
    "\n",
    "wilcoxon(normal)"
   ]
  },
  {
   "cell_type": "code",
   "execution_count": 249,
   "metadata": {},
   "outputs": [
    {
     "data": {
      "text/plain": [
       "<AxesSubplot:>"
      ]
     },
     "execution_count": 249,
     "metadata": {},
     "output_type": "execute_result"
    },
    {
     "data": {
      "image/png": "[encoded data removed]",
      "text/plain": [
       "<Figure size 432x288 with 1 Axes>"
      ]
     },
     "metadata": {
      "needs_background": "light"
     },
     "output_type": "display_data"
    }
   ],
   "source": [
    "x1 = stats.norm.rvs(size=200)\n",
    "x2 = stats.norm.rvs(size=200)\n",
    "\n",
    "pd.Series(x1).hist(color='blue',alpha=0.5)\n",
    "pd.Series(x2).hist(color='orange', alpha=0.5)"
   ]
  },
  {
   "cell_type": "code",
   "execution_count": 312,
   "metadata": {},
   "outputs": [
    {
     "data": {
      "text/plain": [
       "<AxesSubplot:>"
      ]
     },
     "execution_count": 312,
     "metadata": {},
     "output_type": "execute_result"
    },
    {
     "data": {
      "image/png": "[encoded data removed]",
      "text/plain": [
       "<Figure size 432x288 with 1 Axes>"
      ]
     },
     "metadata": {
      "needs_background": "light"
     },
     "output_type": "display_data"
    }
   ],
   "source": [
    "pd.Series(1/2*(x1+x2)).hist(color='orange', bins=50, density=True, alpha=0.5)"
   ]
  },
  {
   "cell_type": "code",
   "execution_count": 274,
   "metadata": {},
   "outputs": [
    {
     "data": {
      "text/plain": [
       "Text(0.5, 1.0, 'PPF')"
      ]
     },
     "execution_count": 274,
     "metadata": {},
     "output_type": "execute_result"
    },
    {
     "data": {
      "image/png": "[encoded data removed]",
      "text/plain": [
       "<Figure size 432x288 with 1 Axes>"
      ]
     },
     "metadata": {
      "needs_background": "light"
     },
     "output_type": "display_data"
    }
   ],
   "source": [
    "plt.plot(np.arange(0,1, 1/len(x1)), np.sort(1/2*(x1+x2)))\n",
    "plt.title('PPF')"
   ]
  },
  {
   "cell_type": "code",
   "execution_count": 272,
   "metadata": {},
   "outputs": [
    {
     "data": {
      "text/plain": [
       "Text(0.5, 1.0, 'CDF')"
      ]
     },
     "execution_count": 272,
     "metadata": {},
     "output_type": "execute_result"
    },
    {
     "data": {
      "image/png": "[encoded data removed]",
      "text/plain": [
       "<Figure size 432x288 with 1 Axes>"
      ]
     },
     "metadata": {
      "needs_background": "light"
     },
     "output_type": "display_data"
    }
   ],
   "source": [
    "plt.plot(np.sort(1/2*(x1+x2)), np.arange(0,1, 1/len(x1)))\n",
    "plt.title('CDF')"
   ]
  },
  {
   "cell_type": "code",
   "execution_count": 353,
   "metadata": {},
   "outputs": [
    {
     "data": {
      "text/plain": [
       "(array([-2.29663991, -1.83561969, -1.5925251 , -1.45024359, -1.40716763,\n",
       "        -1.40139608, -1.39823117, -1.36155108, -1.33580689, -1.25864448,\n",
       "        -1.21994034, -1.19208953, -1.1573121 , -1.11992322, -1.10137259,\n",
       "        -1.08496432, -1.05979289, -1.01813047, -1.00592495, -0.97754807,\n",
       "        -0.94531211, -0.93845736, -0.92979679, -0.91710425, -0.90076471,\n",
       "        -0.89876986, -0.84125009, -0.80993279, -0.78250706, -0.77250481,\n",
       "        -0.72206882, -0.69752825, -0.68683989, -0.67704406, -0.67330124,\n",
       "        -0.6625553 , -0.65243606, -0.64673023, -0.60962147, -0.59712416,\n",
       "        -0.58802583, -0.5823146 , -0.55753718, -0.55502743, -0.54442628,\n",
       "        -0.53747278, -0.52350846, -0.50617837, -0.46045332, -0.45659809,\n",
       "        -0.45491503, -0.43116621, -0.40173083, -0.37586323, -0.375145  ,\n",
       "        -0.3544766 , -0.31018816, -0.27605415, -0.27118119, -0.26887066,\n",
       "        -0.26249318, -0.26235913, -0.25278691, -0.24405746, -0.2420592 ,\n",
       "        -0.24202292, -0.2331111 , -0.23088242, -0.22854354, -0.2212701 ,\n",
       "        -0.21264007, -0.19539695, -0.1781934 , -0.17022782, -0.16087495,\n",
       "        -0.15813194, -0.13183837, -0.12873757, -0.11739449, -0.11479129,\n",
       "        -0.11108   , -0.1109694 , -0.10723366, -0.08431708, -0.07421674,\n",
       "        -0.05903051, -0.05737058, -0.04875508, -0.04716856, -0.04047767,\n",
       "        -0.03747432, -0.02366355, -0.02003033, -0.01862897, -0.0178428 ,\n",
       "        -0.00724278,  0.0032458 ,  0.0057815 ,  0.01806374,  0.01858935,\n",
       "         0.04193135,  0.05300107,  0.05765797,  0.0600998 ,  0.06423683,\n",
       "         0.06503076,  0.07305759,  0.07945776,  0.08107351,  0.09775964,\n",
       "         0.10961954,  0.11255157,  0.11556617,  0.1204922 ,  0.12374029,\n",
       "         0.12552969,  0.13321209,  0.13922227,  0.14813048,  0.17298331,\n",
       "         0.17670094,  0.18078893,  0.19569209,  0.20362899,  0.20615008,\n",
       "         0.21797739,  0.23134532,  0.26139728,  0.27805009,  0.28309453,\n",
       "         0.2832359 ,  0.29328494,  0.29967406,  0.30782504,  0.31053697,\n",
       "         0.31552363,  0.31568145,  0.32916756,  0.34358324,  0.36567311,\n",
       "         0.42171755,  0.42773856,  0.4663712 ,  0.48212033,  0.49079573,\n",
       "         0.51252891,  0.51942076,  0.5259566 ,  0.54379424,  0.5674426 ,\n",
       "         0.58247408,  0.58249803,  0.59045603,  0.59656082,  0.60148088,\n",
       "         0.60860391,  0.61712933,  0.62928744,  0.6612416 ,  0.6669525 ,\n",
       "         0.67697442,  0.67792081,  0.68267239,  0.6970259 ,  0.70014397,\n",
       "         0.70117197,  0.71425052,  0.72536649,  0.73836729,  0.74458213,\n",
       "         0.78221406,  0.7901871 ,  0.81104285,  0.81267912,  0.83834012,\n",
       "         0.87426963,  0.87871987,  0.8818494 ,  0.88458441,  0.8864952 ,\n",
       "         0.89234422,  0.89617405,  0.91261113,  0.96805767,  0.97938209,\n",
       "         0.98649544,  0.99400579,  1.01286511,  1.04162103,  1.16499564,\n",
       "         1.18553223,  1.26254805,  1.2706314 ,  1.28023584,  1.30700205,\n",
       "         1.34286481,  1.46135187,  1.65345214,  2.22608866,  2.45780639]),\n",
       " array([0.   , 0.005, 0.01 , 0.015, 0.02 , 0.025, 0.03 , 0.035, 0.04 ,\n",
       "        0.045, 0.05 , 0.055, 0.06 , 0.065, 0.07 , 0.075, 0.08 , 0.085,\n",
       "        0.09 , 0.095, 0.1  , 0.105, 0.11 , 0.115, 0.12 , 0.125, 0.13 ,\n",
       "        0.135, 0.14 , 0.145, 0.15 , 0.155, 0.16 , 0.165, 0.17 , 0.175,\n",
       "        0.18 , 0.185, 0.19 , 0.195, 0.2  , 0.205, 0.21 , 0.215, 0.22 ,\n",
       "        0.225, 0.23 , 0.235, 0.24 , 0.245, 0.25 , 0.255, 0.26 , 0.265,\n",
       "        0.27 , 0.275, 0.28 , 0.285, 0.29 , 0.295, 0.3  , 0.305, 0.31 ,\n",
       "        0.315, 0.32 , 0.325, 0.33 , 0.335, 0.34 , 0.345, 0.35 , 0.355,\n",
       "        0.36 , 0.365, 0.37 , 0.375, 0.38 , 0.385, 0.39 , 0.395, 0.4  ,\n",
       "        0.405, 0.41 , 0.415, 0.42 , 0.425, 0.43 , 0.435, 0.44 , 0.445,\n",
       "        0.45 , 0.455, 0.46 , 0.465, 0.47 , 0.475, 0.48 , 0.485, 0.49 ,\n",
       "        0.495, 0.5  , 0.505, 0.51 , 0.515, 0.52 , 0.525, 0.53 , 0.535,\n",
       "        0.54 , 0.545, 0.55 , 0.555, 0.56 , 0.565, 0.57 , 0.575, 0.58 ,\n",
       "        0.585, 0.59 , 0.595, 0.6  , 0.605, 0.61 , 0.615, 0.62 , 0.625,\n",
       "        0.63 , 0.635, 0.64 , 0.645, 0.65 , 0.655, 0.66 , 0.665, 0.67 ,\n",
       "        0.675, 0.68 , 0.685, 0.69 , 0.695, 0.7  , 0.705, 0.71 , 0.715,\n",
       "        0.72 , 0.725, 0.73 , 0.735, 0.74 , 0.745, 0.75 , 0.755, 0.76 ,\n",
       "        0.765, 0.77 , 0.775, 0.78 , 0.785, 0.79 , 0.795, 0.8  , 0.805,\n",
       "        0.81 , 0.815, 0.82 , 0.825, 0.83 , 0.835, 0.84 , 0.845, 0.85 ,\n",
       "        0.855, 0.86 , 0.865, 0.87 , 0.875, 0.88 , 0.885, 0.89 , 0.895,\n",
       "        0.9  , 0.905, 0.91 , 0.915, 0.92 , 0.925, 0.93 , 0.935, 0.94 ,\n",
       "        0.945, 0.95 , 0.955, 0.96 , 0.965, 0.97 , 0.975, 0.98 , 0.985,\n",
       "        0.99 , 0.995]))"
      ]
     },
     "execution_count": 353,
     "metadata": {},
     "output_type": "execute_result"
    }
   ],
   "source": [
    "np.sort(1/2*(x1+x2)), np.arange(0,1, 1/len(x1))"
   ]
  },
  {
   "cell_type": "code",
   "execution_count": null,
   "metadata": {},
   "outputs": [],
   "source": []
  }
 ],
 "metadata": {
  "kernelspec": {
   "display_name": "Python 3",
   "language": "python",
   "name": "python3"
  },
  "language_info": {
   "codemirror_mode": {
    "name": "ipython",
    "version": 3
   },
   "file_extension": ".py",
   "mimetype": "text/x-python",
   "name": "python",
   "nbconvert_exporter": "python",
   "pygments_lexer": "ipython3",
   "version": "3.7.10"
  },
  "varInspector": {
   "cols": {
    "lenName": 16,
    "lenType": 16,
    "lenVar": 40
   },
   "kernels_config": {
    "python": {
     "delete_cmd_postfix": "",
     "delete_cmd_prefix": "del ",
     "library": "var_list.py",
     "varRefreshCmd": "print(var_dic_list())"
    },
    "r": {
     "delete_cmd_postfix": ") ",
     "delete_cmd_prefix": "rm(",
     "library": "var_list.r",
     "varRefreshCmd": "cat(var_dic_list()) "
    }
   },
   "types_to_exclude": [
    "module",
    "function",
    "builtin_function_or_method",
    "instance",
    "_Feature"
   ],
   "window_display": false
  }
 },
 "nbformat": 4,
 "nbformat_minor": 4
}
