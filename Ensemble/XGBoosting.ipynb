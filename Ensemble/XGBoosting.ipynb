{
 "cells": [
  {
   "cell_type": "markdown",
   "metadata": {},
   "source": [
    "# XGBoosting"
   ]
  },
  {
   "cell_type": "markdown",
   "metadata": {},
   "source": [
    " - Large dataset - fast performance\n",
    " - Most powerfull implementation of gradient boosting in terms of model performance and execution speed"
   ]
  },
  {
   "cell_type": "code",
   "execution_count": 4,
   "metadata": {},
   "outputs": [],
   "source": [
    "from xgboost import XGBClassifier as XGBC\n",
    "import pandas as pd\n",
    "import matplotlib.pyplot as plt\n",
    "from sklearn.model_selection import train_test_split"
   ]
  },
  {
   "cell_type": "code",
   "execution_count": 12,
   "metadata": {},
   "outputs": [],
   "source": [
    "dataset=pd.read_csv(r\"../Datasets/Churn_Modelling.csv\")"
   ]
  },
  {
   "cell_type": "code",
   "execution_count": 13,
   "metadata": {},
   "outputs": [],
   "source": [
    "# # import labelencoder\n",
    "from sklearn.preprocessing import LabelEncoder\n",
    "\n",
    "# # instantiate labelencoder object\n",
    "le = LabelEncoder()\n",
    "dataset['Gender'] = le.fit_transform(dataset['Gender'])\n",
    "\n",
    "# # using one hot enconder\n",
    "from sklearn.preprocessing import OneHotEncoder\n",
    "encoder=OneHotEncoder(sparse=False)\n",
    "\n",
    "ds_encoded = pd.DataFrame(encoder.fit_transform(dataset[['Geography']]))\n",
    "\n",
    "ds_encoded.columns = encoder.get_feature_names(['Geography'])\n",
    "\n",
    "dataset.drop(['Geography'] ,axis=1, inplace=True)\n",
    "\n",
    "dataset= pd.concat([dataset, ds_encoded], axis=1)\n",
    "\n",
    "dataset = dataset[['RowNumber', 'CustomerId', 'Surname', 'Geography_France', 'Geography_Germany',\n",
    "                   'Geography_Spain', 'Gender', 'CreditScore', 'Age','Tenure', 'Balance', 'NumOfProducts', 'HasCrCard', 'IsActiveMember',\n",
    "                   'EstimatedSalary', 'Exited']]\n",
    "\n",
    "X=dataset.iloc[:,4:-1].values\n",
    "y=dataset.iloc[:,-1].values\n",
    "\n",
    "X_col = dataset.columns[2:4]\n",
    "\n",
    "# # Splitting training and testing\n",
    "X_train, X_test, y_train, y_test= train_test_split(X,y, test_size=0.25, random_state=0)\n",
    "\n",
    "# # # Feature Scaling\n",
    "# from sklearn.preprocessing import StandardScaler\n",
    "# sc_X=StandardScaler()\n",
    "# X_train=sc_X.fit_transform(X_train)\n",
    "# X_test=sc_X.transform(X_test)\n",
    "# X=sc_X.transform(X)"
   ]
  },
  {
   "cell_type": "code",
   "execution_count": 19,
   "metadata": {},
   "outputs": [
    {
     "name": "stdout",
     "output_type": "stream",
     "text": [
      "[14:19:32] ======== Monitor: Learner ========\n",
      "[14:19:32] Configure: 0s, 1 calls @ 0us\n",
      "\n",
      "[14:19:32] GetGradient: 0.177085s, 200 calls @ 177085us\n",
      "\n",
      "[14:19:32] PredictRaw: 0.012006s, 200 calls @ 12006us\n",
      "\n",
      "[14:19:32] UpdateOneIter: 1.97628s, 200 calls @ 1976283us\n",
      "\n",
      "[14:19:32] ======== Monitor: GBTree ========\n",
      "[14:19:32] BoostNewTrees: 1.57685s, 200 calls @ 1576853us\n",
      "\n",
      "[14:19:32] CommitModel: 0.227211s, 200 calls @ 227211us\n",
      "\n",
      "[14:19:32] ======== Monitor:  ========\n",
      "[14:19:32] DEBUG: C:\\Users\\Administrator\\workspace\\xgboost-win64_release_1.0.0\\src\\gbm\\gbtree.cc:146: Using tree method: 2\n",
      "[14:19:32] INFO: C:\\Users\\Administrator\\workspace\\xgboost-win64_release_1.0.0\\src\\tree\\updater_prune.cc:89: tree pruning end, 82 extra nodes, 0 pruned nodes, max_depth=6\n",
      "[14:19:32] INFO: C:\\Users\\Administrator\\workspace\\xgboost-win64_release_1.0.0\\src\\tree\\updater_prune.cc:89: tree pruning end, 86 extra nodes, 0 pruned nodes, max_depth=6\n",
      "[14:19:32] INFO: C:\\Users\\Administrator\\workspace\\xgboost-win64_release_1.0.0\\src\\tree\\updater_prune.cc:89: tree pruning end, 92 extra nodes, 0 pruned nodes, max_depth=6\n",
      "[14:19:32] INFO: C:\\Users\\Administrator\\workspace\\xgboost-win64_release_1.0.0\\src\\tree\\updater_prune.cc:89: tree pruning end, 82 extra nodes, 0 pruned nodes, max_depth=6\n",
      "[14:19:32] INFO: C:\\Users\\Administrator\\workspace\\xgboost-win64_release_1.0.0\\src\\tree\\updater_prune.cc:89: tree pruning end, 92 extra nodes, 0 pruned nodes, max_depth=6\n",
      "[14:19:32] INFO: C:\\Users\\Administrator\\workspace\\xgboost-win64_release_1.0.0\\src\\tree\\updater_prune.cc:89: tree pruning end, 90 extra nodes, 0 pruned nodes, max_depth=6\n",
      "[14:19:32] INFO: C:\\Users\\Administrator\\workspace\\xgboost-win64_release_1.0.0\\src\\tree\\updater_prune.cc:89: tree pruning end, 94 extra nodes, 0 pruned nodes, max_depth=6\n",
      "[14:19:32] INFO: C:\\Users\\Administrator\\workspace\\xgboost-win64_release_1.0.0\\src\\tree\\updater_prune.cc:89: tree pruning end, 118 extra nodes, 0 pruned nodes, max_depth=6\n",
      "[14:19:32] INFO: C:\\Users\\Administrator\\workspace\\xgboost-win64_release_1.0.0\\src\\tree\\updater_prune.cc:89: tree pruning end, 78 extra nodes, 0 pruned nodes, max_depth=6\n",
      "[14:19:32] INFO: C:\\Users\\Administrator\\workspace\\xgboost-win64_release_1.0.0\\src\\tree\\updater_prune.cc:89: tree pruning end, 94 extra nodes, 0 pruned nodes, max_depth=6\n",
      "[14:19:32] INFO: C:\\Users\\Administrator\\workspace\\xgboost-win64_release_1.0.0\\src\\tree\\updater_prune.cc:89: tree pruning end, 80 extra nodes, 0 pruned nodes, max_depth=6\n",
      "[14:19:32] INFO: C:\\Users\\Administrator\\workspace\\xgboost-win64_release_1.0.0\\src\\tree\\updater_prune.cc:89: tree pruning end, 54 extra nodes, 0 pruned nodes, max_depth=6\n",
      "[14:19:32] INFO: C:\\Users\\Administrator\\workspace\\xgboost-win64_release_1.0.0\\src\\tree\\updater_prune.cc:89: tree pruning end, 70 extra nodes, 0 pruned nodes, max_depth=6\n",
      "[14:19:32] INFO: C:\\Users\\Administrator\\workspace\\xgboost-win64_release_1.0.0\\src\\tree\\updater_prune.cc:89: tree pruning end, 50 extra nodes, 0 pruned nodes, max_depth=6\n",
      "[14:19:32] INFO: C:\\Users\\Administrator\\workspace\\xgboost-win64_release_1.0.0\\src\\tree\\updater_prune.cc:89: tree pruning end, 76 extra nodes, 0 pruned nodes, max_depth=6\n",
      "[14:19:32] INFO: C:\\Users\\Administrator\\workspace\\xgboost-win64_release_1.0.0\\src\\tree\\updater_prune.cc:89: tree pruning end, 64 extra nodes, 0 pruned nodes, max_depth=6\n",
      "[14:19:32] INFO: C:\\Users\\Administrator\\workspace\\xgboost-win64_release_1.0.0\\src\\tree\\updater_prune.cc:89: tree pruning end, 56 extra nodes, 0 pruned nodes, max_depth=6\n",
      "[14:19:32] INFO: C:\\Users\\Administrator\\workspace\\xgboost-win64_release_1.0.0\\src\\tree\\updater_prune.cc:89: tree pruning end, 74 extra nodes, 0 pruned nodes, max_depth=6\n",
      "[14:19:32] INFO: C:\\Users\\Administrator\\workspace\\xgboost-win64_release_1.0.0\\src\\tree\\updater_prune.cc:89: tree pruning end, 48 extra nodes, 0 pruned nodes, max_depth=6\n",
      "[14:19:32] INFO: C:\\Users\\Administrator\\workspace\\xgboost-win64_release_1.0.0\\src\\tree\\updater_prune.cc:89: tree pruning end, 70 extra nodes, 0 pruned nodes, max_depth=6\n",
      "[14:19:32] INFO: C:\\Users\\Administrator\\workspace\\xgboost-win64_release_1.0.0\\src\\tree\\updater_prune.cc:89: tree pruning end, 66 extra nodes, 0 pruned nodes, max_depth=6\n",
      "[14:19:32] INFO: C:\\Users\\Administrator\\workspace\\xgboost-win64_release_1.0.0\\src\\tree\\updater_prune.cc:89: tree pruning end, 50 extra nodes, 0 pruned nodes, max_depth=6\n",
      "[14:19:32] INFO: C:\\Users\\Administrator\\workspace\\xgboost-win64_release_1.0.0\\src\\tree\\updater_prune.cc:89: tree pruning end, 78 extra nodes, 0 pruned nodes, max_depth=6\n",
      "[14:19:32] INFO: C:\\Users\\Administrator\\workspace\\xgboost-win64_release_1.0.0\\src\\tree\\updater_prune.cc:89: tree pruning end, 66 extra nodes, 0 pruned nodes, max_depth=6\n",
      "[14:19:32] INFO: C:\\Users\\Administrator\\workspace\\xgboost-win64_release_1.0.0\\src\\tree\\updater_prune.cc:89: tree pruning end, 42 extra nodes, 0 pruned nodes, max_depth=6\n",
      "[14:19:32] INFO: C:\\Users\\Administrator\\workspace\\xgboost-win64_release_1.0.0\\src\\tree\\updater_prune.cc:89: tree pruning end, 32 extra nodes, 0 pruned nodes, max_depth=6\n",
      "[14:19:32] INFO: C:\\Users\\Administrator\\workspace\\xgboost-win64_release_1.0.0\\src\\tree\\updater_prune.cc:89: tree pruning end, 56 extra nodes, 0 pruned nodes, max_depth=6\n",
      "[14:19:33] INFO: C:\\Users\\Administrator\\workspace\\xgboost-win64_release_1.0.0\\src\\tree\\updater_prune.cc:89: tree pruning end, 56 extra nodes, 0 pruned nodes, max_depth=6\n",
      "[14:19:33] INFO: C:\\Users\\Administrator\\workspace\\xgboost-win64_release_1.0.0\\src\\tree\\updater_prune.cc:89: tree pruning end, 40 extra nodes, 0 pruned nodes, max_depth=6\n",
      "[14:19:33] INFO: C:\\Users\\Administrator\\workspace\\xgboost-win64_release_1.0.0\\src\\tree\\updater_prune.cc:89: tree pruning end, 72 extra nodes, 0 pruned nodes, max_depth=6\n",
      "[14:19:33] INFO: C:\\Users\\Administrator\\workspace\\xgboost-win64_release_1.0.0\\src\\tree\\updater_prune.cc:89: tree pruning end, 44 extra nodes, 0 pruned nodes, max_depth=6\n",
      "[14:19:33] INFO: C:\\Users\\Administrator\\workspace\\xgboost-win64_release_1.0.0\\src\\tree\\updater_prune.cc:89: tree pruning end, 116 extra nodes, 0 pruned nodes, max_depth=6\n",
      "[14:19:33] INFO: C:\\Users\\Administrator\\workspace\\xgboost-win64_release_1.0.0\\src\\tree\\updater_prune.cc:89: tree pruning end, 54 extra nodes, 0 pruned nodes, max_depth=6\n",
      "[14:19:33] INFO: C:\\Users\\Administrator\\workspace\\xgboost-win64_release_1.0.0\\src\\tree\\updater_prune.cc:89: tree pruning end, 40 extra nodes, 0 pruned nodes, max_depth=6\n",
      "[14:19:33] INFO: C:\\Users\\Administrator\\workspace\\xgboost-win64_release_1.0.0\\src\\tree\\updater_prune.cc:89: tree pruning end, 80 extra nodes, 0 pruned nodes, max_depth=6\n",
      "[14:19:33] INFO: C:\\Users\\Administrator\\workspace\\xgboost-win64_release_1.0.0\\src\\tree\\updater_prune.cc:89: tree pruning end, 60 extra nodes, 0 pruned nodes, max_depth=6\n",
      "[14:19:33] INFO: C:\\Users\\Administrator\\workspace\\xgboost-win64_release_1.0.0\\src\\tree\\updater_prune.cc:89: tree pruning end, 60 extra nodes, 0 pruned nodes, max_depth=6\n",
      "[14:19:33] INFO: C:\\Users\\Administrator\\workspace\\xgboost-win64_release_1.0.0\\src\\tree\\updater_prune.cc:89: tree pruning end, 40 extra nodes, 0 pruned nodes, max_depth=6\n",
      "[14:19:33] INFO: C:\\Users\\Administrator\\workspace\\xgboost-win64_release_1.0.0\\src\\tree\\updater_prune.cc:89: tree pruning end, 50 extra nodes, 0 pruned nodes, max_depth=6\n",
      "[14:19:33] INFO: C:\\Users\\Administrator\\workspace\\xgboost-win64_release_1.0.0\\src\\tree\\updater_prune.cc:89: tree pruning end, 56 extra nodes, 0 pruned nodes, max_depth=6\n",
      "[14:19:33] INFO: C:\\Users\\Administrator\\workspace\\xgboost-win64_release_1.0.0\\src\\tree\\updater_prune.cc:89: tree pruning end, 54 extra nodes, 0 pruned nodes, max_depth=6\n",
      "[14:19:33] INFO: C:\\Users\\Administrator\\workspace\\xgboost-win64_release_1.0.0\\src\\tree\\updater_prune.cc:89: tree pruning end, 14 extra nodes, 0 pruned nodes, max_depth=6\n",
      "[14:19:33] INFO: C:\\Users\\Administrator\\workspace\\xgboost-win64_release_1.0.0\\src\\tree\\updater_prune.cc:89: tree pruning end, 36 extra nodes, 0 pruned nodes, max_depth=6\n",
      "[14:19:33] INFO: C:\\Users\\Administrator\\workspace\\xgboost-win64_release_1.0.0\\src\\tree\\updater_prune.cc:89: tree pruning end, 60 extra nodes, 0 pruned nodes, max_depth=6\n",
      "[14:19:33] INFO: C:\\Users\\Administrator\\workspace\\xgboost-win64_release_1.0.0\\src\\tree\\updater_prune.cc:89: tree pruning end, 92 extra nodes, 0 pruned nodes, max_depth=6\n",
      "[14:19:33] INFO: C:\\Users\\Administrator\\workspace\\xgboost-win64_release_1.0.0\\src\\tree\\updater_prune.cc:89: tree pruning end, 56 extra nodes, 0 pruned nodes, max_depth=6\n",
      "[14:19:33] INFO: C:\\Users\\Administrator\\workspace\\xgboost-win64_release_1.0.0\\src\\tree\\updater_prune.cc:89: tree pruning end, 20 extra nodes, 0 pruned nodes, max_depth=6\n",
      "[14:19:33] INFO: C:\\Users\\Administrator\\workspace\\xgboost-win64_release_1.0.0\\src\\tree\\updater_prune.cc:89: tree pruning end, 74 extra nodes, 0 pruned nodes, max_depth=6\n",
      "[14:19:33] INFO: C:\\Users\\Administrator\\workspace\\xgboost-win64_release_1.0.0\\src\\tree\\updater_prune.cc:89: tree pruning end, 82 extra nodes, 0 pruned nodes, max_depth=6\n",
      "[14:19:33] INFO: C:\\Users\\Administrator\\workspace\\xgboost-win64_release_1.0.0\\src\\tree\\updater_prune.cc:89: tree pruning end, 102 extra nodes, 0 pruned nodes, max_depth=6\n",
      "[14:19:33] INFO: C:\\Users\\Administrator\\workspace\\xgboost-win64_release_1.0.0\\src\\tree\\updater_prune.cc:89: tree pruning end, 70 extra nodes, 0 pruned nodes, max_depth=6\n",
      "[14:19:33] INFO: C:\\Users\\Administrator\\workspace\\xgboost-win64_release_1.0.0\\src\\tree\\updater_prune.cc:89: tree pruning end, 42 extra nodes, 0 pruned nodes, max_depth=6\n"
     ]
    },
    {
     "name": "stdout",
     "output_type": "stream",
     "text": [
      "[14:19:33] INFO: C:\\Users\\Administrator\\workspace\\xgboost-win64_release_1.0.0\\src\\tree\\updater_prune.cc:89: tree pruning end, 58 extra nodes, 0 pruned nodes, max_depth=6\n",
      "[14:19:33] INFO: C:\\Users\\Administrator\\workspace\\xgboost-win64_release_1.0.0\\src\\tree\\updater_prune.cc:89: tree pruning end, 50 extra nodes, 0 pruned nodes, max_depth=6\n",
      "[14:19:33] INFO: C:\\Users\\Administrator\\workspace\\xgboost-win64_release_1.0.0\\src\\tree\\updater_prune.cc:89: tree pruning end, 98 extra nodes, 0 pruned nodes, max_depth=6\n",
      "[14:19:33] INFO: C:\\Users\\Administrator\\workspace\\xgboost-win64_release_1.0.0\\src\\tree\\updater_prune.cc:89: tree pruning end, 72 extra nodes, 0 pruned nodes, max_depth=6\n",
      "[14:19:33] INFO: C:\\Users\\Administrator\\workspace\\xgboost-win64_release_1.0.0\\src\\tree\\updater_prune.cc:89: tree pruning end, 54 extra nodes, 0 pruned nodes, max_depth=6\n",
      "[14:19:33] INFO: C:\\Users\\Administrator\\workspace\\xgboost-win64_release_1.0.0\\src\\tree\\updater_prune.cc:89: tree pruning end, 114 extra nodes, 0 pruned nodes, max_depth=6\n",
      "[14:19:33] INFO: C:\\Users\\Administrator\\workspace\\xgboost-win64_release_1.0.0\\src\\tree\\updater_prune.cc:89: tree pruning end, 50 extra nodes, 0 pruned nodes, max_depth=6\n",
      "[14:19:33] INFO: C:\\Users\\Administrator\\workspace\\xgboost-win64_release_1.0.0\\src\\tree\\updater_prune.cc:89: tree pruning end, 46 extra nodes, 0 pruned nodes, max_depth=6\n",
      "[14:19:33] INFO: C:\\Users\\Administrator\\workspace\\xgboost-win64_release_1.0.0\\src\\tree\\updater_prune.cc:89: tree pruning end, 48 extra nodes, 0 pruned nodes, max_depth=6\n",
      "[14:19:33] INFO: C:\\Users\\Administrator\\workspace\\xgboost-win64_release_1.0.0\\src\\tree\\updater_prune.cc:89: tree pruning end, 24 extra nodes, 0 pruned nodes, max_depth=6\n",
      "[14:19:33] INFO: C:\\Users\\Administrator\\workspace\\xgboost-win64_release_1.0.0\\src\\tree\\updater_prune.cc:89: tree pruning end, 28 extra nodes, 0 pruned nodes, max_depth=6\n",
      "[14:19:33] INFO: C:\\Users\\Administrator\\workspace\\xgboost-win64_release_1.0.0\\src\\tree\\updater_prune.cc:89: tree pruning end, 98 extra nodes, 0 pruned nodes, max_depth=6\n",
      "[14:19:33] INFO: C:\\Users\\Administrator\\workspace\\xgboost-win64_release_1.0.0\\src\\tree\\updater_prune.cc:89: tree pruning end, 64 extra nodes, 0 pruned nodes, max_depth=6\n",
      "[14:19:33] INFO: C:\\Users\\Administrator\\workspace\\xgboost-win64_release_1.0.0\\src\\tree\\updater_prune.cc:89: tree pruning end, 42 extra nodes, 0 pruned nodes, max_depth=6\n",
      "[14:19:33] INFO: C:\\Users\\Administrator\\workspace\\xgboost-win64_release_1.0.0\\src\\tree\\updater_prune.cc:89: tree pruning end, 86 extra nodes, 0 pruned nodes, max_depth=6\n",
      "[14:19:33] INFO: C:\\Users\\Administrator\\workspace\\xgboost-win64_release_1.0.0\\src\\tree\\updater_prune.cc:89: tree pruning end, 24 extra nodes, 0 pruned nodes, max_depth=6\n",
      "[14:19:33] INFO: C:\\Users\\Administrator\\workspace\\xgboost-win64_release_1.0.0\\src\\tree\\updater_prune.cc:89: tree pruning end, 30 extra nodes, 0 pruned nodes, max_depth=6\n",
      "[14:19:33] INFO: C:\\Users\\Administrator\\workspace\\xgboost-win64_release_1.0.0\\src\\tree\\updater_prune.cc:89: tree pruning end, 36 extra nodes, 0 pruned nodes, max_depth=6\n",
      "[14:19:33] INFO: C:\\Users\\Administrator\\workspace\\xgboost-win64_release_1.0.0\\src\\tree\\updater_prune.cc:89: tree pruning end, 40 extra nodes, 0 pruned nodes, max_depth=6\n",
      "[14:19:33] INFO: C:\\Users\\Administrator\\workspace\\xgboost-win64_release_1.0.0\\src\\tree\\updater_prune.cc:89: tree pruning end, 26 extra nodes, 0 pruned nodes, max_depth=6\n",
      "[14:19:33] INFO: C:\\Users\\Administrator\\workspace\\xgboost-win64_release_1.0.0\\src\\tree\\updater_prune.cc:89: tree pruning end, 66 extra nodes, 0 pruned nodes, max_depth=6\n",
      "[14:19:33] INFO: C:\\Users\\Administrator\\workspace\\xgboost-win64_release_1.0.0\\src\\tree\\updater_prune.cc:89: tree pruning end, 74 extra nodes, 0 pruned nodes, max_depth=6\n",
      "[14:19:33] INFO: C:\\Users\\Administrator\\workspace\\xgboost-win64_release_1.0.0\\src\\tree\\updater_prune.cc:89: tree pruning end, 58 extra nodes, 0 pruned nodes, max_depth=6\n",
      "[14:19:33] INFO: C:\\Users\\Administrator\\workspace\\xgboost-win64_release_1.0.0\\src\\tree\\updater_prune.cc:89: tree pruning end, 60 extra nodes, 0 pruned nodes, max_depth=6\n",
      "[14:19:33] INFO: C:\\Users\\Administrator\\workspace\\xgboost-win64_release_1.0.0\\src\\tree\\updater_prune.cc:89: tree pruning end, 64 extra nodes, 0 pruned nodes, max_depth=6\n",
      "[14:19:33] INFO: C:\\Users\\Administrator\\workspace\\xgboost-win64_release_1.0.0\\src\\tree\\updater_prune.cc:89: tree pruning end, 56 extra nodes, 0 pruned nodes, max_depth=6\n",
      "[14:19:33] INFO: C:\\Users\\Administrator\\workspace\\xgboost-win64_release_1.0.0\\src\\tree\\updater_prune.cc:89: tree pruning end, 80 extra nodes, 0 pruned nodes, max_depth=6\n",
      "[14:19:33] INFO: C:\\Users\\Administrator\\workspace\\xgboost-win64_release_1.0.0\\src\\tree\\updater_prune.cc:89: tree pruning end, 56 extra nodes, 0 pruned nodes, max_depth=6\n",
      "[14:19:33] INFO: C:\\Users\\Administrator\\workspace\\xgboost-win64_release_1.0.0\\src\\tree\\updater_prune.cc:89: tree pruning end, 74 extra nodes, 0 pruned nodes, max_depth=6\n",
      "[14:19:33] INFO: C:\\Users\\Administrator\\workspace\\xgboost-win64_release_1.0.0\\src\\tree\\updater_prune.cc:89: tree pruning end, 82 extra nodes, 0 pruned nodes, max_depth=6\n",
      "[14:19:33] INFO: C:\\Users\\Administrator\\workspace\\xgboost-win64_release_1.0.0\\src\\tree\\updater_prune.cc:89: tree pruning end, 22 extra nodes, 0 pruned nodes, max_depth=6\n",
      "[14:19:33] INFO: C:\\Users\\Administrator\\workspace\\xgboost-win64_release_1.0.0\\src\\tree\\updater_prune.cc:89: tree pruning end, 32 extra nodes, 0 pruned nodes, max_depth=6\n",
      "[14:19:33] INFO: C:\\Users\\Administrator\\workspace\\xgboost-win64_release_1.0.0\\src\\tree\\updater_prune.cc:89: tree pruning end, 60 extra nodes, 0 pruned nodes, max_depth=6\n",
      "[14:19:33] INFO: C:\\Users\\Administrator\\workspace\\xgboost-win64_release_1.0.0\\src\\tree\\updater_prune.cc:89: tree pruning end, 48 extra nodes, 0 pruned nodes, max_depth=6\n",
      "[14:19:33] INFO: C:\\Users\\Administrator\\workspace\\xgboost-win64_release_1.0.0\\src\\tree\\updater_prune.cc:89: tree pruning end, 48 extra nodes, 0 pruned nodes, max_depth=6\n",
      "[14:19:33] INFO: C:\\Users\\Administrator\\workspace\\xgboost-win64_release_1.0.0\\src\\tree\\updater_prune.cc:89: tree pruning end, 66 extra nodes, 0 pruned nodes, max_depth=6\n",
      "[14:19:33] INFO: C:\\Users\\Administrator\\workspace\\xgboost-win64_release_1.0.0\\src\\tree\\updater_prune.cc:89: tree pruning end, 68 extra nodes, 0 pruned nodes, max_depth=6\n",
      "[14:19:33] INFO: C:\\Users\\Administrator\\workspace\\xgboost-win64_release_1.0.0\\src\\tree\\updater_prune.cc:89: tree pruning end, 58 extra nodes, 0 pruned nodes, max_depth=6\n",
      "[14:19:33] INFO: C:\\Users\\Administrator\\workspace\\xgboost-win64_release_1.0.0\\src\\tree\\updater_prune.cc:89: tree pruning end, 52 extra nodes, 0 pruned nodes, max_depth=6\n",
      "[14:19:33] INFO: C:\\Users\\Administrator\\workspace\\xgboost-win64_release_1.0.0\\src\\tree\\updater_prune.cc:89: tree pruning end, 56 extra nodes, 0 pruned nodes, max_depth=6\n",
      "[14:19:33] INFO: C:\\Users\\Administrator\\workspace\\xgboost-win64_release_1.0.0\\src\\tree\\updater_prune.cc:89: tree pruning end, 48 extra nodes, 0 pruned nodes, max_depth=6\n",
      "[14:19:33] INFO: C:\\Users\\Administrator\\workspace\\xgboost-win64_release_1.0.0\\src\\tree\\updater_prune.cc:89: tree pruning end, 18 extra nodes, 0 pruned nodes, max_depth=6\n",
      "[14:19:33] INFO: C:\\Users\\Administrator\\workspace\\xgboost-win64_release_1.0.0\\src\\tree\\updater_prune.cc:89: tree pruning end, 66 extra nodes, 0 pruned nodes, max_depth=6\n",
      "[14:19:33] INFO: C:\\Users\\Administrator\\workspace\\xgboost-win64_release_1.0.0\\src\\tree\\updater_prune.cc:89: tree pruning end, 64 extra nodes, 0 pruned nodes, max_depth=6\n",
      "[14:19:33] INFO: C:\\Users\\Administrator\\workspace\\xgboost-win64_release_1.0.0\\src\\tree\\updater_prune.cc:89: tree pruning end, 46 extra nodes, 0 pruned nodes, max_depth=6\n",
      "[14:19:33] INFO: C:\\Users\\Administrator\\workspace\\xgboost-win64_release_1.0.0\\src\\tree\\updater_prune.cc:89: tree pruning end, 72 extra nodes, 0 pruned nodes, max_depth=6\n",
      "[14:19:33] INFO: C:\\Users\\Administrator\\workspace\\xgboost-win64_release_1.0.0\\src\\tree\\updater_prune.cc:89: tree pruning end, 24 extra nodes, 0 pruned nodes, max_depth=6\n",
      "[14:19:33] INFO: C:\\Users\\Administrator\\workspace\\xgboost-win64_release_1.0.0\\src\\tree\\updater_prune.cc:89: tree pruning end, 58 extra nodes, 0 pruned nodes, max_depth=6\n",
      "Training set score:0.955\n",
      "Test set score:0.857\n",
      "\n",
      "              precision    recall  f1-score   support\n",
      "\n",
      "           0       0.89      0.94      0.91      1991\n",
      "           1       0.69      0.53      0.60       509\n",
      "\n",
      "    accuracy                           0.86      2500\n",
      "   macro avg       0.79      0.74      0.76      2500\n",
      "weighted avg       0.85      0.86      0.85      2500\n",
      "\n"
     ]
    }
   ],
   "source": [
    "#fitting XGBoost to the training set\n",
    "# classifier = XGBC(n_estimators= 200, verbosity=3)\n",
    "classifier = XGBC(verbosity=3)\n",
    "classifier.fit(X_train, y_train)\n",
    "y_pred = classifier.predict(X_test)\n",
    "\n",
    "print('Training set score:{:.3f}\\nTest set score:{:.3f}\\n'.format(classifier.score(X_train, y_train),\n",
    "                                                                classifier.score(X_test, y_test)))\n",
    "from sklearn.metrics import classification_report\n",
    "\n",
    "print(classification_report(y_test, y_pred))"
   ]
  },
  {
   "cell_type": "code",
   "execution_count": 22,
   "metadata": {},
   "outputs": [
    {
     "data": {
      "text/plain": [
       "array([0, 0, 0, ..., 0, 0, 0], dtype=int64)"
      ]
     },
     "execution_count": 22,
     "metadata": {},
     "output_type": "execute_result"
    }
   ],
   "source": [
    "# classifier.best_ntree_limit\n",
    "\n",
    "classifier.predict(X_test, ntree_limit=20)\n"
   ]
  },
  {
   "cell_type": "code",
   "execution_count": 16,
   "metadata": {},
   "outputs": [],
   "source": [
    "# Apply k-Fold Cross Validation\n",
    "from sklearn.model_selection import cross_val_score as cvs\n",
    "accuracies = cvs(estimator=classifier, X= X_train,y=y_train, cv=10)"
   ]
  },
  {
   "cell_type": "code",
   "execution_count": 19,
   "metadata": {},
   "outputs": [
    {
     "data": {
      "text/plain": [
       "Text(0.5, 0, 'fold')"
      ]
     },
     "execution_count": 19,
     "metadata": {},
     "output_type": "execute_result"
    },
    {
     "data": {
      "image/png": "[encoded data removed]",
      "text/plain": [
       "<Figure size 432x288 with 1 Axes>"
      ]
     },
     "metadata": {
      "needs_background": "light"
     },
     "output_type": "display_data"
    }
   ],
   "source": [
    "plt.plot(accuracies)\n",
    "plt.plot(np.ones(len(accuracies))*np.mean(accuracies))\n",
    "plt.plot(np.ones(len(accuracies))*(np.mean(accuracies)+np.std(accuracies)),'black')\n",
    "plt.plot(np.ones(len(accuracies))*(np.mean(accuracies)-np.std(accuracies)),'black')\n",
    "plt.xlabel('fold')"
   ]
  },
  {
   "cell_type": "code",
   "execution_count": 20,
   "metadata": {},
   "outputs": [
    {
     "data": {
      "text/html": [
       "<script type=\"text/Javascript\">var win = window.open(\"\", \"Title\", \"toolbar=no, location=no, directories=no, status=no, menubar=no, scrollbars=yes, resizable=yes, width=780, height=200, top=\"+(screen.height-400)+\", left=\"+(screen.width-840));win.document.body.innerHTML = '<table border=\"1\" class=\"dataframe\">\\  <thead>\\    <tr style=\"text-align: right;\">\\      <th></th>\\      <th>MODEL_1</th>\\      <th>MODEL_2</th>\\    </tr>\\  </thead>\\  <tbody>\\    <tr>\\      <th>DATA_1</th>\\      <td>1872</td>\\      <td>119</td>\\    </tr>\\    <tr>\\      <th>DATA_2</th>\\      <td>239</td>\\      <td>270</td>\\    </tr>\\  </tbody>\\</table>';</script>"
      ],
      "text/plain": [
       "<IPython.core.display.HTML object>"
      ]
     },
     "execution_count": 20,
     "metadata": {},
     "output_type": "execute_result"
    }
   ],
   "source": [
    "from sklearn.metrics import confusion_matrix\n",
    "\n",
    "df_confusion=pd.DataFrame(confusion_matrix(y_test, y_pred), columns = ['MODEL_1','MODEL_2'\n",
    "                                                                      ], index = ['DATA_1','DATA_2'])\n",
    "\n",
    "\n",
    "from IPython.display import HTML\n",
    "s  = '<script type=\"text/Javascript\">'\n",
    "s += 'var win = window.open(\"\", \"Title\", \"toolbar=no, location=no, directories=no, status=no, menubar=no, scrollbars=yes, resizable=yes, width=780, height=200, top=\"+(screen.height-400)+\", left=\"+(screen.width-840));'\n",
    "s += 'win.document.body.innerHTML = \\'' + df_confusion.to_html().replace(\"\\n\",'\\\\') + '\\';'\n",
    "s += '</script>'\n",
    "\n",
    "# Show in new Window\n",
    "HTML(s)"
   ]
  },
  {
   "cell_type": "code",
   "execution_count": null,
   "metadata": {},
   "outputs": [],
   "source": []
  }
 ],
 "metadata": {
  "kernelspec": {
   "display_name": "Python 3",
   "language": "python",
   "name": "python3"
  },
  "language_info": {
   "codemirror_mode": {
    "name": "ipython",
    "version": 3
   },
   "file_extension": ".py",
   "mimetype": "text/x-python",
   "name": "python",
   "nbconvert_exporter": "python",
   "pygments_lexer": "ipython3",
   "version": "3.7.10"
  },
  "varInspector": {
   "cols": {
    "lenName": 16,
    "lenType": 16,
    "lenVar": 40
   },
   "kernels_config": {
    "python": {
     "delete_cmd_postfix": "",
     "delete_cmd_prefix": "del ",
     "library": "var_list.py",
     "varRefreshCmd": "print(var_dic_list())"
    },
    "r": {
     "delete_cmd_postfix": ") ",
     "delete_cmd_prefix": "rm(",
     "library": "var_list.r",
     "varRefreshCmd": "cat(var_dic_list()) "
    }
   },
   "types_to_exclude": [
    "module",
    "function",
    "builtin_function_or_method",
    "instance",
    "_Feature"
   ],
   "window_display": false
  }
 },
 "nbformat": 4,
 "nbformat_minor": 4
}
