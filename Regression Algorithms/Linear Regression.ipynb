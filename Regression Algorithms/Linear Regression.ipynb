{
 "cells": [
  {
   "cell_type": "markdown",
   "metadata": {},
   "source": [
    "# Section 4 - Simple Linear Regression"
   ]
  },
  {
   "cell_type": "code",
   "execution_count": 1,
   "metadata": {},
   "outputs": [],
   "source": [
    "#Import Libraries\n",
    "import sklearn\n",
    "import numpy as np\n",
    "import pandas as pd\n",
    "import matplotlib.pyplot as plt\n",
    "from sklearn.linear_model import LinearRegression\n",
    "import pylab \n",
    "import scipy.stats as stats"
   ]
  },
  {
   "cell_type": "markdown",
   "metadata": {},
   "source": [
    "# Teste de Premissas"
   ]
  },
  {
   "cell_type": "code",
   "execution_count": null,
   "metadata": {},
   "outputs": [],
   "source": [
    "# Normalidade\n",
    "\n",
    "measurements = np.random.normal(loc = 20, scale = 5, size=100)   \n",
    "stats.probplot(measurements, dist=\"norm\", plot=pylab)\n",
    "plt.show()\n",
    "stats.probplot(measurements, dist=\"uniform\", plot=pylab)\n",
    "plt.show()\n"
   ]
  },
  {
   "cell_type": "code",
   "execution_count": null,
   "metadata": {},
   "outputs": [],
   "source": [
    "# import numpy as np\n",
    "# import scipy.stats as stats\n",
    "\n",
    "# #generate random aray\n",
    "# arr_1 = np.random.normal(0, 1.0, size=100)\n",
    "\n",
    "# #edf\n",
    "# arr_1_edf = np.arange(1/len(arr_1), 1+1/len(arr_1), 1/len(arr_1))\n",
    "\n",
    "# #sort generated array\n",
    "# arr_1_sorted = np.sort(arr_1)\n",
    "\n",
    "# #get cdf based on norm distribution\n",
    "# cdf_null_hyp = [stats.norm.cdf(x) for x in arr_1_sorted]\n",
    "\n",
    "# #calculate absolute difference\n",
    "# arr_dif_abs = np.abs(cdf_null_hyp-arr_1_edf)\n",
    "\n",
    "# #get max difference\n",
    "# dn_ks = max(arr_dif_abs)\n",
    "\n",
    "# plt.plot(cdf_null_hyp, c='b', label = 'null hypothesis distribution');\n",
    "# plt.plot(arr_1_edf, c='g', label = 'data distribution');\n",
    "# plt.legend(loc='best');"
   ]
  },
  {
   "cell_type": "code",
   "execution_count": null,
   "metadata": {},
   "outputs": [],
   "source": [
    "stats.kstest(np.random.normal(0,1,10000),'norm')"
   ]
  },
  {
   "cell_type": "code",
   "execution_count": null,
   "metadata": {},
   "outputs": [],
   "source": [
    "stats.kstest(np.random.uniform(0,1,10000),'norm')"
   ]
  },
  {
   "cell_type": "code",
   "execution_count": null,
   "metadata": {},
   "outputs": [],
   "source": [
    "stats.kstest(np.random.random(10000),'norm')"
   ]
  },
  {
   "cell_type": "code",
   "execution_count": null,
   "metadata": {},
   "outputs": [],
   "source": [
    "import numpy as np\n",
    "import scipy.stats as stats\n",
    "\n",
    "mu = 0.3\n",
    "sigma = 5\n",
    "\n",
    "num_tests = 10**3\n",
    "num_rejects = 0\n",
    "alpha = 0.05\n",
    "for i in range(num_tests):\n",
    "    data = np.random.normal(mu, sigma, 10000)\n",
    "    # normed_data = (data - mu) / sigma    # this is okay\n",
    "    # 4915/100000 = 0.05 rejects at rejection level 0.05 (as expected)\n",
    "    normed_data = (data - data.mean()) / data.std()    # this is NOT okay\n",
    "    # 20/100000 = 0.00 rejects at rejection level 0.05 (not expected)\n",
    "    D, pval = stats.kstest(normed_data, 'norm')\n",
    "    if pval < alpha:\n",
    "        num_rejects += 1\n",
    "ratio = float(num_rejects) / num_tests\n",
    "\n",
    "print('{}/{} = {:.2f} rejects at rejection level {}'.format(\n",
    "    num_rejects, num_tests, ratio, alpha))     "
   ]
  },
  {
   "cell_type": "markdown",
   "metadata": {},
   "source": [
    "# Case 0 - Salary Prediction"
   ]
  },
  {
   "cell_type": "code",
   "execution_count": null,
   "metadata": {},
   "outputs": [],
   "source": [
    "#Import data\n",
    "dataset=pd.read_csv(r'../Data/Salary_Data.csv')\n",
    "X=dataset.iloc[:,:-1].values\n",
    "y=dataset.iloc[:,-1].values\n",
    "\n",
    "# Splitting training and testing\n",
    "from sklearn.model_selection import train_test_split\n",
    "X_train, X_test, y_train, y_test= train_test_split(X,y, test_size=1/3, random_state=0)\n",
    "\n",
    "# Feature Scaling\n",
    "from sklearn.preprocessing import StandardScaler\n",
    "sc_X=StandardScaler()\n",
    "X_train=sc_X.fit_transform(X_train)\n",
    "X_test=sc_X.transform(X_test)"
   ]
  },
  {
   "cell_type": "code",
   "execution_count": null,
   "metadata": {},
   "outputs": [],
   "source": [
    "from sklearn.linear_model import LinearRegression"
   ]
  },
  {
   "cell_type": "code",
   "execution_count": null,
   "metadata": {},
   "outputs": [],
   "source": [
    "lin=LinearRegression()\n",
    "y_pred= lin.fit(X_train, y_train).predict(X_test)"
   ]
  },
  {
   "cell_type": "code",
   "execution_count": null,
   "metadata": {},
   "outputs": [],
   "source": [
    "y_val= X*lin.coef_[0]+lin.intercept_\n",
    "\n",
    "y_val=y_val.reshape(1,-1)[0]\n",
    "\n",
    "cost=np.sum((y-y_val)**2)/len(y_val)\n",
    "cost"
   ]
  },
  {
   "cell_type": "code",
   "execution_count": null,
   "metadata": {},
   "outputs": [],
   "source": [
    "#SCORE: Return the coefficient of determination R^2 of the prediction.\n",
    "\n",
    "print('test_score:',lin.score(X_test,y_test))\n",
    "print('train_score:',lin.score(X_train, y_train))\n",
    "print('dataset_score:',lin.score(X, y))"
   ]
  },
  {
   "cell_type": "code",
   "execution_count": null,
   "metadata": {},
   "outputs": [],
   "source": [
    "lin.__dict__"
   ]
  },
  {
   "cell_type": "code",
   "execution_count": null,
   "metadata": {},
   "outputs": [],
   "source": [
    "plt.scatter(X_train, y_train, color='green')\n",
    "plt.plot(X_train, lin.predict(X_train), marker='^', alpha=0.2, color='blue')\n",
    "plt.title('Salary vs Experience (Train)')\n",
    "plt.xlabel('Experience (years)')\n",
    "plt.ylabel('Salary (dollars)')\n",
    "plt.show()\n",
    "\n",
    "plt.scatter(X_test, y_test, color='red')\n",
    "plt.plot(X_test, lin.predict(X_test), marker='^', alpha=0.2, color='blue')\n",
    "plt.title('Salary vs Experience (Test)')\n",
    "plt.xlabel('Experience (years)')\n",
    "plt.ylabel('Salary (dollars)')\n",
    "plt.show()"
   ]
  },
  {
   "cell_type": "code",
   "execution_count": null,
   "metadata": {},
   "outputs": [],
   "source": [
    "# line=np.arange(0,12,0.1)\n",
    "# y_val= line*lin.coef_[0]+lin.intercept_\n",
    "\n",
    "# plt.plot(X,y,'o')\n",
    "# plt.plot(line, y_val)\n",
    "# plt.plot(X_test, y_test, 'v')\n",
    "# plt.xlabel('ID person')\n",
    "# plt.ylabel('Salary')"
   ]
  },
  {
   "cell_type": "code",
   "execution_count": null,
   "metadata": {},
   "outputs": [],
   "source": [
    "print(lin.score(X_test, y_test))\n",
    "SSres=np.sum((y_test-lin.predict(X_test))**2)\n",
    "SStot=np.sum((y_test-np.mean(y_test)*np.ones(len(y_test)))**2)\n",
    "\n",
    "R=np.sqrt(1-SSres/SStot)\n",
    "R"
   ]
  },
  {
   "cell_type": "markdown",
   "metadata": {},
   "source": [
    "# Case 2 - Multiple Linear Regression"
   ]
  },
  {
   "cell_type": "markdown",
   "metadata": {},
   "source": [
    "5 methods of building models:\n",
    "    \n",
    " - All-in \n",
    " - Backward Elimination \n",
    " - Forward Selection\n",
    " - Bidirectional Elimination\n",
    " - Score Comparison"
   ]
  },
  {
   "cell_type": "code",
   "execution_count": 5,
   "metadata": {},
   "outputs": [],
   "source": [
    "#Import Libraries\n",
    "import sklearn\n",
    "import numpy as np\n",
    "import pandas as pd\n",
    "import matplotlib.pyplot as plt\n",
    "from sklearn.linear_model import LinearRegression\n",
    "from sklearn.preprocessing import LabelEncoder, OneHotEncoder"
   ]
  },
  {
   "cell_type": "code",
   "execution_count": 6,
   "metadata": {},
   "outputs": [],
   "source": [
    "import warnings\n",
    "warnings.filterwarnings(\"ignore\")"
   ]
  },
  {
   "cell_type": "code",
   "execution_count": 7,
   "metadata": {},
   "outputs": [],
   "source": [
    "#Import data\n",
    "dataset=pd.read_csv(r'../Data/50_Startups.csv')\n",
    "X=dataset.iloc[:,:-1]\n",
    "y=dataset.iloc[:,-1]"
   ]
  },
  {
   "cell_type": "code",
   "execution_count": 8,
   "metadata": {},
   "outputs": [],
   "source": [
    "# Categorical boolean mask\n",
    "categorical_feature_mask = dataset.dtypes==object\n",
    "\n",
    "# filter categorical columns using mask and turn it into a list\n",
    "categorical_cols = dataset.columns[categorical_feature_mask].tolist()\n",
    "\n",
    "# import OneHotEncoder\n",
    "from sklearn.preprocessing import OneHotEncoder"
   ]
  },
  {
   "cell_type": "code",
   "execution_count": 9,
   "metadata": {},
   "outputs": [
    {
     "name": "stdout",
     "output_type": "stream",
     "text": [
      "Enconding: State\n"
     ]
    }
   ],
   "source": [
    "for column in categorical_cols:\n",
    "    print('Enconding:',column)\n",
    "    ohe = OneHotEncoder(categories = 'auto', sparse=False, handle_unknown='ignore') \n",
    "    ohe.fit(dataset[[column]])\n",
    "    aux = pd.DataFrame(ohe.fit_transform(dataset[[column]]),\n",
    "                       columns=list(np.array(ohe.categories_)[0])).add_prefix(column + '_')\n",
    "    dataset.drop(columns=column,inplace=True)\n",
    "    dataset = pd.concat([dataset, aux], axis=1)\n"
   ]
  },
  {
   "cell_type": "code",
   "execution_count": 10,
   "metadata": {},
   "outputs": [
    {
     "name": "stdout",
     "output_type": "stream",
     "text": [
      "test_score: 0.9576035764205424\n",
      "train_score: 0.8752655285748309\n",
      "data_score: 0.9416843347867826\n"
     ]
    }
   ],
   "source": [
    "target = 'Profit'\n",
    "X=dataset.drop(columns=target)\n",
    "y=dataset[target]\n",
    "\n",
    "from sklearn.model_selection import train_test_split\n",
    "X_train, X_test, y_train, y_test= train_test_split(X,y, test_size=1/3, random_state=0)\n",
    "\n",
    "lin=LinearRegression()\n",
    "lin.fit(X_train, y_train)\n",
    "y_pred=lin.predict(X_test)\n",
    "\n",
    "print('test_score:',lin.score(X_train, y_train))\n",
    "print('train_score:',lin.score(X_test, y_test))\n",
    "print('data_score:',lin.score(X, y))"
   ]
  },
  {
   "cell_type": "code",
   "execution_count": 11,
   "metadata": {},
   "outputs": [
    {
     "data": {
      "image/png": "[encoded data removed]",
      "text/plain": [
       "<Figure size 1080x360 with 3 Axes>"
      ]
     },
     "metadata": {
      "needs_background": "light"
     },
     "output_type": "display_data"
    }
   ],
   "source": [
    "fig, axes= plt.subplots(1,3,figsize=(15,5))\n",
    "\n",
    "for i,ax in zip(range(0,3),axes):\n",
    "    line=np.arange(min(X.iloc[:,i]),max(X.iloc[:,i]),0.1)\n",
    "    y_val= line*lin.coef_[i]+lin.intercept_\n",
    "    ax.plot(X.iloc[:,i],y.values,'o')\n",
    "    ax.plot(line, y_val)\n",
    "    ax.plot(X_test.iloc[:,i], y_test, 'v')\n",
    "    ax.set_xlabel(dataset.columns[i])\n",
    "    ax.set_ylabel(target)\n",
    "    \n",
    "plt.tight_layout()"
   ]
  },
  {
   "cell_type": "code",
   "execution_count": 12,
   "metadata": {},
   "outputs": [
    {
     "name": "stdout",
     "output_type": "stream",
     "text": [
      "[ 8.28371991e-01  5.03972419e-02  2.21861926e-02 -1.86280085e+03\n",
      "  4.06383296e+03 -2.20103211e+03] 41011.48935223663\n"
     ]
    }
   ],
   "source": [
    "print(lin.coef_,lin.intercept_)"
   ]
  },
  {
   "cell_type": "markdown",
   "metadata": {},
   "source": [
    "\n",
    "# Using Backward Elimination on Regression"
   ]
  },
  {
   "cell_type": "markdown",
   "metadata": {},
   "source": [
    "    -Select a significance level, say 5% (0.05)\n",
    "    -Fit a model with all features (variables)\n",
    "    -Consider the feature with the highest P-Value. If its P-value is greater than significance level (P > SL), go to step 4. Else, your model is ready.\n",
    "    -Eliminate this feature (variable).\n",
    "    -Fit a model with the new set of features, and go to step 3."
   ]
  },
  {
   "cell_type": "markdown",
   "metadata": {},
   "source": [
    "P value is a statistical measure that helps scientists determine whether or not their hypotheses are correct. P values are used to determine whether the results of their experiment are within the normal range of values for the events being observed. Usually, if the P value of a data set is below a certain pre-determined amount (like, for instance, 0.05), scientists will reject the \"null hypothesis\" of their experiment - in other words, they'll rule out the hypothesis that the variables of their experiment had no meaningful effect on the results.\n",
    "\n",
    "The purpose of finding a p-value is basically to determine whether the observed results differ from the expected results to such a degree that the \"null hypothesis\" - the hypothesis that there is no relationship between the experimental variable(s) and the observed results - is unlikely enough to reject"
   ]
  },
  {
   "cell_type": "code",
   "execution_count": 18,
   "metadata": {},
   "outputs": [
    {
     "name": "stdout",
     "output_type": "stream",
     "text": [
      "^C\n",
      "\n",
      "Note: you may need to restart the kernel to use updated packages.\n"
     ]
    }
   ],
   "source": [
    "conda upgrade --all"
   ]
  },
  {
   "cell_type": "code",
   "execution_count": 13,
   "metadata": {},
   "outputs": [],
   "source": [
    "import statsmodels.regression.linear_model as sm"
   ]
  },
  {
   "cell_type": "code",
   "execution_count": 15,
   "metadata": {},
   "outputs": [],
   "source": [
    "reg_OLS=sm.OLS(endog=np.array(y_train), exog=np.array(X_train)).fit()"
   ]
  },
  {
   "cell_type": "code",
   "execution_count": 17,
   "metadata": {},
   "outputs": [
    {
     "ename": "AttributeError",
     "evalue": "module 'pandas' has no attribute 'Panel'",
     "output_type": "error",
     "traceback": [
      "\u001b[1;31m---------------------------------------------------------------------------\u001b[0m",
      "\u001b[1;31mAttributeError\u001b[0m                            Traceback (most recent call last)",
      "\u001b[1;32m<ipython-input-17-161f45e98410>\u001b[0m in \u001b[0;36m<module>\u001b[1;34m\u001b[0m\n\u001b[0;32m      1\u001b[0m \u001b[1;31m# Meus resíduos são normais?\u001b[0m\u001b[1;33m\u001b[0m\u001b[1;33m\u001b[0m\u001b[1;33m\u001b[0m\u001b[0m\n\u001b[0;32m      2\u001b[0m \u001b[1;33m\u001b[0m\u001b[0m\n\u001b[1;32m----> 3\u001b[1;33m \u001b[0mreg_OLS\u001b[0m\u001b[1;33m.\u001b[0m\u001b[0mpredict\u001b[0m\u001b[1;33m(\u001b[0m\u001b[0mnp\u001b[0m\u001b[1;33m.\u001b[0m\u001b[0marray\u001b[0m\u001b[1;33m(\u001b[0m\u001b[0mX_train\u001b[0m\u001b[1;33m)\u001b[0m\u001b[1;33m)\u001b[0m\u001b[1;33m\u001b[0m\u001b[1;33m\u001b[0m\u001b[0m\n\u001b[0m",
      "\u001b[1;32m~\\AppData\\Roaming\\Python\\Python37\\site-packages\\statsmodels\\base\\model.py\u001b[0m in \u001b[0;36mpredict\u001b[1;34m(self, exog, transform, *args, **kwargs)\u001b[0m\n\u001b[0;32m    993\u001b[0m         \u001b[1;32mimport\u001b[0m \u001b[0mpandas\u001b[0m \u001b[1;32mas\u001b[0m \u001b[0mpd\u001b[0m\u001b[1;33m\u001b[0m\u001b[1;33m\u001b[0m\u001b[0m\n\u001b[0;32m    994\u001b[0m \u001b[1;33m\u001b[0m\u001b[0m\n\u001b[1;32m--> 995\u001b[1;33m         \u001b[0mis_pandas\u001b[0m \u001b[1;33m=\u001b[0m \u001b[0m_is_using_pandas\u001b[0m\u001b[1;33m(\u001b[0m\u001b[0mexog\u001b[0m\u001b[1;33m,\u001b[0m \u001b[1;32mNone\u001b[0m\u001b[1;33m)\u001b[0m\u001b[1;33m\u001b[0m\u001b[1;33m\u001b[0m\u001b[0m\n\u001b[0m\u001b[0;32m    996\u001b[0m \u001b[1;33m\u001b[0m\u001b[0m\n\u001b[0;32m    997\u001b[0m         \u001b[0mexog_index\u001b[0m \u001b[1;33m=\u001b[0m \u001b[0mexog\u001b[0m\u001b[1;33m.\u001b[0m\u001b[0mindex\u001b[0m \u001b[1;32mif\u001b[0m \u001b[0mis_pandas\u001b[0m \u001b[1;32melse\u001b[0m \u001b[1;32mNone\u001b[0m\u001b[1;33m\u001b[0m\u001b[1;33m\u001b[0m\u001b[0m\n",
      "\u001b[1;32m~\\AppData\\Roaming\\Python\\Python37\\site-packages\\statsmodels\\tools\\data.py\u001b[0m in \u001b[0;36m_is_using_pandas\u001b[1;34m(endog, exog)\u001b[0m\n\u001b[0;32m     99\u001b[0m \u001b[1;33m\u001b[0m\u001b[0m\n\u001b[0;32m    100\u001b[0m \u001b[1;32mdef\u001b[0m \u001b[0m_is_using_pandas\u001b[0m\u001b[1;33m(\u001b[0m\u001b[0mendog\u001b[0m\u001b[1;33m,\u001b[0m \u001b[0mexog\u001b[0m\u001b[1;33m)\u001b[0m\u001b[1;33m:\u001b[0m\u001b[1;33m\u001b[0m\u001b[1;33m\u001b[0m\u001b[0m\n\u001b[1;32m--> 101\u001b[1;33m     \u001b[1;32mfrom\u001b[0m \u001b[0mstatsmodels\u001b[0m\u001b[1;33m.\u001b[0m\u001b[0mcompat\u001b[0m\u001b[1;33m.\u001b[0m\u001b[0mpandas\u001b[0m \u001b[1;32mimport\u001b[0m \u001b[0mdata_klasses\u001b[0m \u001b[1;32mas\u001b[0m \u001b[0mklasses\u001b[0m\u001b[1;33m\u001b[0m\u001b[1;33m\u001b[0m\u001b[0m\n\u001b[0m\u001b[0;32m    102\u001b[0m     \u001b[1;32mreturn\u001b[0m \u001b[1;33m(\u001b[0m\u001b[0misinstance\u001b[0m\u001b[1;33m(\u001b[0m\u001b[0mendog\u001b[0m\u001b[1;33m,\u001b[0m \u001b[0mklasses\u001b[0m\u001b[1;33m)\u001b[0m \u001b[1;32mor\u001b[0m \u001b[0misinstance\u001b[0m\u001b[1;33m(\u001b[0m\u001b[0mexog\u001b[0m\u001b[1;33m,\u001b[0m \u001b[0mklasses\u001b[0m\u001b[1;33m)\u001b[0m\u001b[1;33m)\u001b[0m\u001b[1;33m\u001b[0m\u001b[1;33m\u001b[0m\u001b[0m\n\u001b[0;32m    103\u001b[0m \u001b[1;33m\u001b[0m\u001b[0m\n",
      "\u001b[1;32m~\\AppData\\Roaming\\Python\\Python37\\site-packages\\statsmodels\\compat\\pandas.py\u001b[0m in \u001b[0;36m<module>\u001b[1;34m\u001b[0m\n\u001b[0;32m     21\u001b[0m     \u001b[1;32mexcept\u001b[0m \u001b[0mImportError\u001b[0m\u001b[1;33m:\u001b[0m\u001b[1;33m\u001b[0m\u001b[1;33m\u001b[0m\u001b[0m\n\u001b[0;32m     22\u001b[0m         \u001b[1;32mfrom\u001b[0m \u001b[0mpandas\u001b[0m\u001b[1;33m.\u001b[0m\u001b[0mtseries\u001b[0m \u001b[1;32mimport\u001b[0m \u001b[0mfrequencies\u001b[0m\u001b[1;33m\u001b[0m\u001b[1;33m\u001b[0m\u001b[0m\n\u001b[1;32m---> 23\u001b[1;33m     \u001b[0mdata_klasses\u001b[0m \u001b[1;33m=\u001b[0m \u001b[1;33m(\u001b[0m\u001b[0mpandas\u001b[0m\u001b[1;33m.\u001b[0m\u001b[0mSeries\u001b[0m\u001b[1;33m,\u001b[0m \u001b[0mpandas\u001b[0m\u001b[1;33m.\u001b[0m\u001b[0mDataFrame\u001b[0m\u001b[1;33m,\u001b[0m \u001b[0mpandas\u001b[0m\u001b[1;33m.\u001b[0m\u001b[0mPanel\u001b[0m\u001b[1;33m)\u001b[0m\u001b[1;33m\u001b[0m\u001b[1;33m\u001b[0m\u001b[0m\n\u001b[0m\u001b[0;32m     24\u001b[0m \u001b[1;32melse\u001b[0m\u001b[1;33m:\u001b[0m\u001b[1;33m\u001b[0m\u001b[1;33m\u001b[0m\u001b[0m\n\u001b[0;32m     25\u001b[0m     \u001b[1;32mtry\u001b[0m\u001b[1;33m:\u001b[0m\u001b[1;33m\u001b[0m\u001b[1;33m\u001b[0m\u001b[0m\n",
      "\u001b[1;32m~\\Anaconda\\lib\\site-packages\\pandas\\__init__.py\u001b[0m in \u001b[0;36m__getattr__\u001b[1;34m(name)\u001b[0m\n\u001b[0;32m    242\u001b[0m         \u001b[1;32mreturn\u001b[0m \u001b[0m_SparseArray\u001b[0m\u001b[1;33m\u001b[0m\u001b[1;33m\u001b[0m\u001b[0m\n\u001b[0;32m    243\u001b[0m \u001b[1;33m\u001b[0m\u001b[0m\n\u001b[1;32m--> 244\u001b[1;33m     \u001b[1;32mraise\u001b[0m \u001b[0mAttributeError\u001b[0m\u001b[1;33m(\u001b[0m\u001b[1;34mf\"module 'pandas' has no attribute '{name}'\"\u001b[0m\u001b[1;33m)\u001b[0m\u001b[1;33m\u001b[0m\u001b[1;33m\u001b[0m\u001b[0m\n\u001b[0m\u001b[0;32m    245\u001b[0m \u001b[1;33m\u001b[0m\u001b[0m\n\u001b[0;32m    246\u001b[0m \u001b[1;33m\u001b[0m\u001b[0m\n",
      "\u001b[1;31mAttributeError\u001b[0m: module 'pandas' has no attribute 'Panel'"
     ]
    }
   ],
   "source": [
    "# Meus resíduos são normais?\n",
    "\n",
    "reg_OLS.predict(np.array(X_train))"
   ]
  },
  {
   "cell_type": "code",
   "execution_count": 16,
   "metadata": {},
   "outputs": [
    {
     "data": {
      "text/html": [
       "<table class=\"simpletable\">\n",
       "<caption>OLS Regression Results</caption>\n",
       "<tr>\n",
       "  <th>Dep. Variable:</th>            <td>y</td>        <th>  R-squared:         </th> <td>   0.958</td>\n",
       "</tr>\n",
       "<tr>\n",
       "  <th>Model:</th>                   <td>OLS</td>       <th>  Adj. R-squared:    </th> <td>   0.950</td>\n",
       "</tr>\n",
       "<tr>\n",
       "  <th>Method:</th>             <td>Least Squares</td>  <th>  F-statistic:       </th> <td>   122.0</td>\n",
       "</tr>\n",
       "<tr>\n",
       "  <th>Date:</th>             <td>Thu, 15 Jul 2021</td> <th>  Prob (F-statistic):</th> <td>1.18e-17</td>\n",
       "</tr>\n",
       "<tr>\n",
       "  <th>Time:</th>                 <td>23:12:59</td>     <th>  Log-Likelihood:    </th> <td> -347.02</td>\n",
       "</tr>\n",
       "<tr>\n",
       "  <th>No. Observations:</th>      <td>    33</td>      <th>  AIC:               </th> <td>   706.0</td>\n",
       "</tr>\n",
       "<tr>\n",
       "  <th>Df Residuals:</th>          <td>    27</td>      <th>  BIC:               </th> <td>   715.0</td>\n",
       "</tr>\n",
       "<tr>\n",
       "  <th>Df Model:</th>              <td>     5</td>      <th>                     </th>     <td> </td>   \n",
       "</tr>\n",
       "<tr>\n",
       "  <th>Covariance Type:</th>      <td>nonrobust</td>    <th>                     </th>     <td> </td>   \n",
       "</tr>\n",
       "</table>\n",
       "<table class=\"simpletable\">\n",
       "<tr>\n",
       "   <td></td>     <th>coef</th>     <th>std err</th>      <th>t</th>      <th>P>|t|</th>  <th>[0.025</th>    <th>0.975]</th>  \n",
       "</tr>\n",
       "<tr>\n",
       "  <th>x1</th> <td>    0.8284</td> <td>    0.061</td> <td>   13.580</td> <td> 0.000</td> <td>    0.703</td> <td>    0.954</td>\n",
       "</tr>\n",
       "<tr>\n",
       "  <th>x2</th> <td>    0.0504</td> <td>    0.073</td> <td>    0.687</td> <td> 0.498</td> <td>   -0.100</td> <td>    0.201</td>\n",
       "</tr>\n",
       "<tr>\n",
       "  <th>x3</th> <td>    0.0222</td> <td>    0.021</td> <td>    1.063</td> <td> 0.297</td> <td>   -0.021</td> <td>    0.065</td>\n",
       "</tr>\n",
       "<tr>\n",
       "  <th>x4</th> <td> 3.915e+04</td> <td> 9007.467</td> <td>    4.346</td> <td> 0.000</td> <td> 2.07e+04</td> <td> 5.76e+04</td>\n",
       "</tr>\n",
       "<tr>\n",
       "  <th>x5</th> <td> 4.508e+04</td> <td> 1.02e+04</td> <td>    4.401</td> <td> 0.000</td> <td> 2.41e+04</td> <td> 6.61e+04</td>\n",
       "</tr>\n",
       "<tr>\n",
       "  <th>x6</th> <td> 3.881e+04</td> <td> 9328.986</td> <td>    4.160</td> <td> 0.000</td> <td> 1.97e+04</td> <td>  5.8e+04</td>\n",
       "</tr>\n",
       "</table>\n",
       "<table class=\"simpletable\">\n",
       "<tr>\n",
       "  <th>Omnibus:</th>       <td>13.089</td> <th>  Durbin-Watson:     </th> <td>   2.107</td>\n",
       "</tr>\n",
       "<tr>\n",
       "  <th>Prob(Omnibus):</th> <td> 0.001</td> <th>  Jarque-Bera (JB):  </th> <td>  16.973</td>\n",
       "</tr>\n",
       "<tr>\n",
       "  <th>Skew:</th>          <td>-0.992</td> <th>  Prob(JB):          </th> <td>0.000206</td>\n",
       "</tr>\n",
       "<tr>\n",
       "  <th>Kurtosis:</th>      <td> 5.899</td> <th>  Cond. No.          </th> <td>2.48e+06</td>\n",
       "</tr>\n",
       "</table><br/><br/>Warnings:<br/>[1] Standard Errors assume that the covariance matrix of the errors is correctly specified.<br/>[2] The condition number is large, 2.48e+06. This might indicate that there are<br/>strong multicollinearity or other numerical problems."
      ],
      "text/plain": [
       "<class 'statsmodels.iolib.summary.Summary'>\n",
       "\"\"\"\n",
       "                            OLS Regression Results                            \n",
       "==============================================================================\n",
       "Dep. Variable:                      y   R-squared:                       0.958\n",
       "Model:                            OLS   Adj. R-squared:                  0.950\n",
       "Method:                 Least Squares   F-statistic:                     122.0\n",
       "Date:                Thu, 15 Jul 2021   Prob (F-statistic):           1.18e-17\n",
       "Time:                        23:12:59   Log-Likelihood:                -347.02\n",
       "No. Observations:                  33   AIC:                             706.0\n",
       "Df Residuals:                      27   BIC:                             715.0\n",
       "Df Model:                           5                                         \n",
       "Covariance Type:            nonrobust                                         \n",
       "==============================================================================\n",
       "                 coef    std err          t      P>|t|      [0.025      0.975]\n",
       "------------------------------------------------------------------------------\n",
       "x1             0.8284      0.061     13.580      0.000       0.703       0.954\n",
       "x2             0.0504      0.073      0.687      0.498      -0.100       0.201\n",
       "x3             0.0222      0.021      1.063      0.297      -0.021       0.065\n",
       "x4          3.915e+04   9007.467      4.346      0.000    2.07e+04    5.76e+04\n",
       "x5          4.508e+04   1.02e+04      4.401      0.000    2.41e+04    6.61e+04\n",
       "x6          3.881e+04   9328.986      4.160      0.000    1.97e+04     5.8e+04\n",
       "==============================================================================\n",
       "Omnibus:                       13.089   Durbin-Watson:                   2.107\n",
       "Prob(Omnibus):                  0.001   Jarque-Bera (JB):               16.973\n",
       "Skew:                          -0.992   Prob(JB):                     0.000206\n",
       "Kurtosis:                       5.899   Cond. No.                     2.48e+06\n",
       "==============================================================================\n",
       "\n",
       "Warnings:\n",
       "[1] Standard Errors assume that the covariance matrix of the errors is correctly specified.\n",
       "[2] The condition number is large, 2.48e+06. This might indicate that there are\n",
       "strong multicollinearity or other numerical problems.\n",
       "\"\"\""
      ]
     },
     "execution_count": 16,
     "metadata": {},
     "output_type": "execute_result"
    }
   ],
   "source": [
    "reg_OLS.summary()"
   ]
  },
  {
   "cell_type": "code",
   "execution_count": 220,
   "metadata": {},
   "outputs": [
    {
     "ename": "SyntaxError",
     "evalue": "invalid syntax (<ipython-input-220-25794be3e033>, line 1)",
     "output_type": "error",
     "traceback": [
      "\u001b[1;36m  File \u001b[1;32m\"<ipython-input-220-25794be3e033>\"\u001b[1;36m, line \u001b[1;32m1\u001b[0m\n\u001b[1;33m    predict(params[, exog])\u001b[0m\n\u001b[1;37m                   ^\u001b[0m\n\u001b[1;31mSyntaxError\u001b[0m\u001b[1;31m:\u001b[0m invalid syntax\n"
     ]
    }
   ],
   "source": [
    "predict(params[, exog])"
   ]
  },
  {
   "cell_type": "code",
   "execution_count": null,
   "metadata": {},
   "outputs": [],
   "source": [
    "# the index 2 has the biggest p-value\n",
    "X_opt= X[:,[0,1,3,4,5]]\n",
    "reg_OLS=sm.OLS(endog=y, exog=X_opt).fit()\n",
    "reg_OLS.summary()"
   ]
  },
  {
   "cell_type": "code",
   "execution_count": null,
   "metadata": {},
   "outputs": [],
   "source": [
    "# the index 1 has the biggest p-value\n",
    "X_opt= X[:,[0,3,4,5]]\n",
    "reg_OLS=sm.OLS(endog=y, exog=X_opt).fit()\n",
    "reg_OLS.summary()"
   ]
  },
  {
   "cell_type": "code",
   "execution_count": null,
   "metadata": {},
   "outputs": [],
   "source": [
    "# the index 1 has the biggest p-value\n",
    "X_opt= X[:,[0,3,5]]\n",
    "reg_OLS=sm.OLS(endog=y, exog=X_opt).fit()\n",
    "reg_OLS.summary()"
   ]
  },
  {
   "cell_type": "code",
   "execution_count": null,
   "metadata": {},
   "outputs": [],
   "source": [
    "from sklearn.linear_model import LinearRegression\n",
    "\n",
    "dataset=pd.read_csv(r'../../Datasets/Machine_Learning_A_Z/Part 2 - Regression/Section 5 - Multiple Linear Regression/50_Startups.csv')\n",
    "\n",
    "X=X_opt\n",
    "\n",
    "y=dataset.iloc[:,-1].values\n",
    "\n",
    "from sklearn.model_selection import train_test_split as tts\n",
    "X_train, X_test, y_train, y_test= tts(X,y, test_size=1/3, random_state=0)\n",
    "\n",
    "lin=LinearRegression()\n",
    "lin.fit(X_train, y_train)\n",
    "y_pred= lin.predict(X_test)\n",
    "\n",
    "print('test_score:',lin.score(X_test,y_test))\n",
    "print('train_score:',lin.score(X_train, y_train))\n",
    "print('dataset_score:',lin.score(X, y))"
   ]
  },
  {
   "cell_type": "code",
   "execution_count": null,
   "metadata": {},
   "outputs": [],
   "source": [
    "test_score: 0.9576035764205424\n",
    "train_score: 0.8752655285748183\n",
    "data_score: 0.9416843347867802"
   ]
  },
  {
   "cell_type": "code",
   "execution_count": null,
   "metadata": {},
   "outputs": [],
   "source": [
    "import statsmodels.regression.linear_model as sm\n",
    "def backwardElimination(x, sl):\n",
    "    numVars = len(x[0])\n",
    "    for i in range(0, numVars):\n",
    "        regressor_OLS = sm.OLS(y, x).fit()\n",
    "        maxVar = max(regressor_OLS.pvalues).astype(float)\n",
    "        if maxVar > sl:\n",
    "            for j in range(0, numVars - i):\n",
    "                if (regressor_OLS.pvalues[j].astype(float) == maxVar):\n",
    "                    print(\"the variable {} has SL value of {} which is bigger than 0.05\\n\".format(j,maxVar))\n",
    "                    x = np.delete(x, j, 1)\n",
    "    print(regressor_OLS.summary())\n",
    "    return x\n",
    " \n",
    "SL = 0.05\n",
    "X_opt = X[:, [0, 1, 2, 3, 4, 5]]\n",
    "X_Modeled = backwardElimination(X_opt, SL)"
   ]
  },
  {
   "cell_type": "code",
   "execution_count": null,
   "metadata": {},
   "outputs": [],
   "source": []
  }
 ],
 "metadata": {
  "kernelspec": {
   "display_name": "Python 3",
   "language": "python",
   "name": "python3"
  },
  "language_info": {
   "codemirror_mode": {
    "name": "ipython",
    "version": 3
   },
   "file_extension": ".py",
   "mimetype": "text/x-python",
   "name": "python",
   "nbconvert_exporter": "python",
   "pygments_lexer": "ipython3",
   "version": "3.7.6"
  },
  "varInspector": {
   "cols": {
    "lenName": 16,
    "lenType": 16,
    "lenVar": 40
   },
   "kernels_config": {
    "python": {
     "delete_cmd_postfix": "",
     "delete_cmd_prefix": "del ",
     "library": "var_list.py",
     "varRefreshCmd": "print(var_dic_list())"
    },
    "r": {
     "delete_cmd_postfix": ") ",
     "delete_cmd_prefix": "rm(",
     "library": "var_list.r",
     "varRefreshCmd": "cat(var_dic_list()) "
    }
   },
   "types_to_exclude": [
    "module",
    "function",
    "builtin_function_or_method",
    "instance",
    "_Feature"
   ],
   "window_display": false
  }
 },
 "nbformat": 4,
 "nbformat_minor": 2
}
